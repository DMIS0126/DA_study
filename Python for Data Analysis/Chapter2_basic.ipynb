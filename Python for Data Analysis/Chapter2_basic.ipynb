{
 "cells": [
  {
   "cell_type": "markdown",
   "source": [
    "## 2장 파이썬 기초, IPython과 주피터 노트북"
   ],
   "metadata": {
    "collapsed": false
   }
  },
  {
   "cell_type": "code",
   "execution_count": 2,
   "outputs": [],
   "source": [
    "import pandas as pd\n",
    "import numpy as np\n",
    "\n",
    "pd.options.display.max_columns = 20\n",
    "pd.options.display.max_rows = 20\n",
    "pd.options.display.max_colwidth = 80\n",
    "np.set_printoptions(precision = 4, suppress=True)"
   ],
   "metadata": {
    "collapsed": false,
    "ExecuteTime": {
     "end_time": "2023-08-15T21:52:17.111621Z",
     "start_time": "2023-08-15T21:52:17.106174Z"
    }
   }
  },
  {
   "cell_type": "code",
   "execution_count": 15,
   "outputs": [],
   "source": [
    "def add_numbers(a, b):\n",
    "    \"\"\"\n",
    "    Add two numbers together\n",
    "    Returns\n",
    "    ------\n",
    "    the sum : type of arguments\n",
    "    \"\"\"\n",
    "    return a+b"
   ],
   "metadata": {
    "collapsed": false,
    "ExecuteTime": {
     "end_time": "2023-08-15T22:01:03.032860Z",
     "start_time": "2023-08-15T22:01:03.030101Z"
    }
   }
  },
  {
   "cell_type": "markdown",
   "source": [
    "#### 변수에 값을 할당하는 것은 한 이름이 하나의 객체로 연결되므로 바인딩이라고 부른다, 값이 할당된 변수 이름은 때때로 종속 변수라고 부르기도 한다."
   ],
   "metadata": {
    "collapsed": false
   }
  },
  {
   "cell_type": "code",
   "execution_count": 16,
   "outputs": [
    {
     "data": {
      "text/plain": "[1, 2, 3, 4]"
     },
     "execution_count": 16,
     "metadata": {},
     "output_type": "execute_result"
    }
   ],
   "source": [
    "a=[1, 2, 3]\n",
    "b=a\n",
    "b.append(4)\n",
    "a"
   ],
   "metadata": {
    "collapsed": false,
    "ExecuteTime": {
     "end_time": "2023-08-15T22:02:03.623349Z",
     "start_time": "2023-08-15T22:02:03.619109Z"
    }
   }
  },
  {
   "cell_type": "code",
   "execution_count": 23,
   "outputs": [
    {
     "ename": "TypeError",
     "evalue": "can only concatenate str (not \"int\") to str",
     "output_type": "error",
     "traceback": [
      "\u001B[0;31m---------------------------------------------------------------------------\u001B[0m",
      "\u001B[0;31mTypeError\u001B[0m                                 Traceback (most recent call last)",
      "Cell \u001B[0;32mIn[23], line 1\u001B[0m\n\u001B[0;32m----> 1\u001B[0m \u001B[38;5;28mprint\u001B[39m(\u001B[38;5;124;43m\"\u001B[39;49m\u001B[38;5;124;43m5\u001B[39;49m\u001B[38;5;124;43m\"\u001B[39;49m\u001B[38;5;241;43m+\u001B[39;49m\u001B[38;5;241;43m5\u001B[39;49m)\n",
      "\u001B[0;31mTypeError\u001B[0m: can only concatenate str (not \"int\") to str"
     ]
    }
   ],
   "source": [
    "print(\"5\"+5)"
   ],
   "metadata": {
    "collapsed": false,
    "ExecuteTime": {
     "end_time": "2023-08-15T22:06:02.405811Z",
     "start_time": "2023-08-15T22:06:02.399783Z"
    }
   }
  },
  {
   "cell_type": "markdown",
   "source": [
    "#### list는 항상 새로운 파이썬 리스트를 생성하므로, 아래의 경우 c는 a와 구별된다."
   ],
   "metadata": {
    "collapsed": false
   }
  },
  {
   "cell_type": "code",
   "execution_count": 28,
   "outputs": [
    {
     "name": "stdout",
     "output_type": "stream",
     "text": [
      "True\n",
      "False\n",
      "[1, 2, 3] [1, 2, 3, 4]\n"
     ]
    }
   ],
   "source": [
    "a=[1, 2, 3]\n",
    "b=a\n",
    "c=list(a)\n",
    "print(a==c)\n",
    "print(a is c)\n",
    "\n",
    "c.append(4)\n",
    "print(a, c)"
   ],
   "metadata": {
    "collapsed": false,
    "ExecuteTime": {
     "end_time": "2023-08-15T22:11:41.654566Z",
     "start_time": "2023-08-15T22:11:41.651957Z"
    }
   }
  },
  {
   "cell_type": "code",
   "execution_count": 29,
   "outputs": [
    {
     "name": "stdout",
     "output_type": "stream",
     "text": [
      "10 Pesos is worth US$0.11304544426859599\n"
     ]
    }
   ],
   "source": [
    "amount = 10\n",
    "rate = 88.46\n",
    "currency = \"Pesos\"\n",
    "\n",
    "result = f\"{amount} {currency} is worth US${amount / rate}\"\n",
    "print(result)"
   ],
   "metadata": {
    "collapsed": false,
    "ExecuteTime": {
     "end_time": "2023-08-15T22:18:14.968154Z",
     "start_time": "2023-08-15T22:18:14.963430Z"
    }
   }
  },
  {
   "cell_type": "code",
   "execution_count": 33,
   "outputs": [
    {
     "name": "stdout",
     "output_type": "stream",
     "text": [
      "3 9\n"
     ]
    }
   ],
   "source": [
    "def add_and_maybe_multiply(a, b, c=None):\n",
    "    result = a+b\n",
    "    if c is not None :\n",
    "        result = result * c\n",
    "    return result\n",
    "\n",
    "print(add_and_maybe_multiply(1, 2), add_and_maybe_multiply(1, 2, 3))"
   ],
   "metadata": {
    "collapsed": false,
    "ExecuteTime": {
     "end_time": "2023-08-15T22:21:23.704710Z",
     "start_time": "2023-08-15T22:21:23.700311Z"
    }
   }
  },
  {
   "cell_type": "markdown",
   "source": [
    "#### continue 예약어의 쓰임새"
   ],
   "metadata": {
    "collapsed": false
   }
  },
  {
   "cell_type": "code",
   "execution_count": 36,
   "outputs": [
    {
     "ename": "TypeError",
     "evalue": "unsupported operand type(s) for +=: 'int' and 'NoneType'",
     "output_type": "error",
     "traceback": [
      "\u001B[0;31m---------------------------------------------------------------------------\u001B[0m",
      "\u001B[0;31mTypeError\u001B[0m                                 Traceback (most recent call last)",
      "Cell \u001B[0;32mIn[36], line 4\u001B[0m\n\u001B[1;32m      2\u001B[0m total \u001B[38;5;241m=\u001B[39m \u001B[38;5;241m0\u001B[39m\n\u001B[1;32m      3\u001B[0m \u001B[38;5;28;01mfor\u001B[39;00m value \u001B[38;5;129;01min\u001B[39;00m sequence:\n\u001B[0;32m----> 4\u001B[0m     total \u001B[38;5;241m+\u001B[39m\u001B[38;5;241m=\u001B[39m value\n\u001B[1;32m      6\u001B[0m \u001B[38;5;28mprint\u001B[39m(total)\n",
      "\u001B[0;31mTypeError\u001B[0m: unsupported operand type(s) for +=: 'int' and 'NoneType'"
     ]
    }
   ],
   "source": [
    "sequence = [1, 2, None, 4, None, 5]\n",
    "total = 0\n",
    "for value in sequence:\n",
    "    total += value\n",
    "\n",
    "print(total)"
   ],
   "metadata": {
    "collapsed": false,
    "ExecuteTime": {
     "end_time": "2023-08-15T22:29:15.695564Z",
     "start_time": "2023-08-15T22:29:15.688289Z"
    }
   }
  },
  {
   "cell_type": "code",
   "execution_count": 37,
   "outputs": [
    {
     "name": "stdout",
     "output_type": "stream",
     "text": [
      "12\n"
     ]
    }
   ],
   "source": [
    "sequence = [1, 2, None, 4, None, 5]\n",
    "total = 0\n",
    "for value in sequence:\n",
    "    if value is None:\n",
    "        continue\n",
    "    total += value\n",
    "\n",
    "print(total)"
   ],
   "metadata": {
    "collapsed": false,
    "ExecuteTime": {
     "end_time": "2023-08-15T22:29:19.306659Z",
     "start_time": "2023-08-15T22:29:19.303734Z"
    }
   }
  },
  {
   "cell_type": "markdown",
   "source": [
    "#### break 예약어의 쓰임새"
   ],
   "metadata": {
    "collapsed": false
   }
  },
  {
   "cell_type": "code",
   "execution_count": 40,
   "outputs": [
    {
     "data": {
      "text/plain": "13"
     },
     "execution_count": 40,
     "metadata": {},
     "output_type": "execute_result"
    }
   ],
   "source": [
    "sequence2 = [1, 2, 0, 4, 6, 5, 2, 1]\n",
    "total_before5 = 0\n",
    "for value in sequence2:\n",
    "    if value ==5:\n",
    "        break\n",
    "    total_before5 += value\n",
    "\n",
    "total_before5"
   ],
   "metadata": {
    "collapsed": false,
    "ExecuteTime": {
     "end_time": "2023-08-15T22:31:08.503192Z",
     "start_time": "2023-08-15T22:31:08.499534Z"
    }
   }
  },
  {
   "cell_type": "code",
   "execution_count": 55,
   "outputs": [
    {
     "name": "stdout",
     "output_type": "stream",
     "text": [
      "i=0\n",
      "j=0\n",
      "(0, 0)\n",
      "j=1\n",
      "j(=1)>i(=0)이므로 다음 턴으로\n",
      "i=1\n",
      "j=0\n",
      "(1, 0)\n",
      "j=1\n",
      "(1, 1)\n",
      "j=2\n",
      "j(=2)>i(=1)이므로 다음 턴으로\n",
      "i=2\n",
      "j=0\n",
      "(2, 0)\n",
      "j=1\n",
      "(2, 1)\n",
      "j=2\n",
      "(2, 2)\n",
      "j=3\n",
      "j(=3)>i(=2)이므로 다음 턴으로\n",
      "i=3\n",
      "j=0\n",
      "(3, 0)\n",
      "j=1\n",
      "(3, 1)\n",
      "j=2\n",
      "(3, 2)\n",
      "j=3\n",
      "(3, 3)\n"
     ]
    }
   ],
   "source": [
    "for i in range(4):\n",
    "    print(f\"i={i}\")\n",
    "    for j in range(4):\n",
    "        print(f\"j={j}\")\n",
    "        if j>i:\n",
    "            print(f\"j(={j})>i(={i})이므로 다음 턴으로\")\n",
    "            break\n",
    "        print((i, j))"
   ],
   "metadata": {
    "collapsed": false,
    "ExecuteTime": {
     "end_time": "2023-08-15T22:35:16.407294Z",
     "start_time": "2023-08-15T22:35:16.404826Z"
    }
   }
  }
 ],
 "metadata": {
  "kernelspec": {
   "display_name": "Python 3",
   "language": "python",
   "name": "python3"
  },
  "language_info": {
   "codemirror_mode": {
    "name": "ipython",
    "version": 2
   },
   "file_extension": ".py",
   "mimetype": "text/x-python",
   "name": "python",
   "nbconvert_exporter": "python",
   "pygments_lexer": "ipython2",
   "version": "2.7.6"
  }
 },
 "nbformat": 4,
 "nbformat_minor": 0
}
