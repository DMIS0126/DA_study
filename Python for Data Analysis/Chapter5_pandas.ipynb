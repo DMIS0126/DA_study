{
 "cells": [
  {
   "cell_type": "markdown",
   "source": [
    "## 5장 판다스 시작하기"
   ],
   "metadata": {
    "collapsed": false
   }
  },
  {
   "cell_type": "markdown",
   "source": [
    "### 기본"
   ],
   "metadata": {
    "collapsed": false
   }
  },
  {
   "cell_type": "markdown",
   "source": [
    "#### Series\n",
    "* Series는 일련의 객체를 담을 수 있는 1차원 배열 같은 자료구조다.\n",
    "    * 어떤 넘파이 자료형이라도 담을 수 있다.)\n",
    "* index를 동반한다.\n"
   ],
   "metadata": {
    "collapsed": false
   }
  },
  {
   "cell_type": "code",
   "execution_count": 16,
   "outputs": [
    {
     "name": "stdout",
     "output_type": "stream",
     "text": [
      "0    4\n",
      "1    1\n",
      "2    2\n",
      "3   -3\n",
      "dtype: int64\n"
     ]
    }
   ],
   "source": [
    "import pandas as pd\n",
    "\n",
    "obj = pd.Series([4, 1, 2, -3])\n",
    "print(obj)"
   ],
   "metadata": {
    "collapsed": false,
    "ExecuteTime": {
     "end_time": "2023-08-17T22:14:36.528460Z",
     "start_time": "2023-08-17T22:14:36.521175Z"
    }
   }
  },
  {
   "cell_type": "markdown",
   "source": [
    "위와 같이 Series의 표현을 보면 왼쪽에는 index를, 오른쪽에는 해당 index에 해당하는 값을 보여준다."
   ],
   "metadata": {
    "collapsed": false
   }
  },
  {
   "cell_type": "code",
   "execution_count": 21,
   "outputs": [
    {
     "name": "stdout",
     "output_type": "stream",
     "text": [
      "Index(['a', 'b', 'd', 'c'], dtype='object')\n",
      "a    4\n",
      "b    1\n",
      "d    2\n",
      "c   -3\n",
      "dtype: int64\n"
     ]
    }
   ],
   "source": [
    "print(obj.index)\n",
    "\n",
    "obj_2 = obj\n",
    "\n",
    "obj_2.index = ['a', 'b', 'd', 'c']\n",
    "print(obj_2)"
   ],
   "metadata": {
    "collapsed": false,
    "ExecuteTime": {
     "end_time": "2023-08-17T22:15:48.994961Z",
     "start_time": "2023-08-17T22:15:48.992540Z"
    }
   }
  },
  {
   "cell_type": "markdown",
   "source": [
    "자유로운 필터링이 가능하다."
   ],
   "metadata": {
    "collapsed": false
   }
  },
  {
   "cell_type": "code",
   "execution_count": 25,
   "outputs": [
    {
     "name": "stdout",
     "output_type": "stream",
     "text": [
      "a    4\n",
      "b    1\n",
      "d    2\n",
      "dtype: int64\n",
      "a    8\n",
      "b    2\n",
      "d    4\n",
      "c   -6\n",
      "dtype: int64\n",
      "a    54.598150\n",
      "b     2.718282\n",
      "d     7.389056\n",
      "c     0.049787\n",
      "dtype: float64\n"
     ]
    }
   ],
   "source": [
    "print(obj_2[obj_2 > 0])\n",
    "\n",
    "print(obj_2*2)\n",
    "\n",
    "import numpy as np\n",
    "\n",
    "print(np.exp(obj_2))"
   ],
   "metadata": {
    "collapsed": false,
    "ExecuteTime": {
     "end_time": "2023-08-17T22:17:28.885752Z",
     "start_time": "2023-08-17T22:17:28.879002Z"
    }
   }
  },
  {
   "cell_type": "markdown",
   "source": [
    "Series를 이해하는 다른 방법은 고정 길이의 정렬된 딕셔너리라고 생각하는 것이다.\n",
    "Series와 딕셔너리 사이의 자유로운 호환이 가능하다."
   ],
   "metadata": {
    "collapsed": false
   }
  },
  {
   "cell_type": "code",
   "execution_count": 28,
   "outputs": [
    {
     "name": "stdout",
     "output_type": "stream",
     "text": [
      "a      1\n",
      "b      2\n",
      "c     10\n",
      "d    100\n",
      "dtype: int64\n",
      "{'a': 1, 'b': 2, 'c': 10, 'd': 100}\n"
     ]
    }
   ],
   "source": [
    "data = {\"a\" : 1, \"b\" : 2, \"c\" : 10, \"d\" : 100}\n",
    "\n",
    "import pandas as pd\n",
    "\n",
    "s_data = pd.Series(data)\n",
    "print(s_data)\n",
    "\n",
    "d_data = s_data.to_dict()\n",
    "print(d_data)"
   ],
   "metadata": {
    "collapsed": false,
    "ExecuteTime": {
     "end_time": "2023-08-17T22:27:30.169310Z",
     "start_time": "2023-08-17T22:27:30.165171Z"
    }
   }
  },
  {
   "cell_type": "markdown",
   "source": [
    "Series 객체와 index는 모두 name 속성을 가지며, 이 속성은 판다스의 다른 기능들과 통합되어 있다."
   ],
   "metadata": {
    "collapsed": false
   }
  },
  {
   "cell_type": "markdown",
   "source": [
    "s_data.name = \"test\"\n",
    "s_data.index.name = \"index\"\n",
    "s_data"
   ],
   "metadata": {
    "collapsed": false
   }
  },
  {
   "cell_type": "markdown",
   "source": [
    "---"
   ],
   "metadata": {
    "collapsed": false
   }
  },
  {
   "cell_type": "markdown",
   "source": [
    "#### DataFrame\n",
    "* DataFrame은 표 같은 스프레드시트 형식의 자료구조다.\n",
    "* DataFrame은 행과 열에 대한 색인을 가지며, 색인의 모양이 같은 Series 객체를 담고 있는 파이썬 딕셔너리로 생각하면 편하다."
   ],
   "metadata": {
    "collapsed": false
   }
  },
  {
   "cell_type": "code",
   "execution_count": 34,
   "outputs": [
    {
     "data": {
      "text/plain": "    state  year  pop\n0    ohio  2020  1.5\n1  nevada  2020  1.7\n2    ohio  2021  1.2\n3  nevada  2021  1.1\n4    ohio  2022  1.0",
      "text/html": "<div>\n<style scoped>\n    .dataframe tbody tr th:only-of-type {\n        vertical-align: middle;\n    }\n\n    .dataframe tbody tr th {\n        vertical-align: top;\n    }\n\n    .dataframe thead th {\n        text-align: right;\n    }\n</style>\n<table border=\"1\" class=\"dataframe\">\n  <thead>\n    <tr style=\"text-align: right;\">\n      <th></th>\n      <th>state</th>\n      <th>year</th>\n      <th>pop</th>\n    </tr>\n  </thead>\n  <tbody>\n    <tr>\n      <th>0</th>\n      <td>ohio</td>\n      <td>2020</td>\n      <td>1.5</td>\n    </tr>\n    <tr>\n      <th>1</th>\n      <td>nevada</td>\n      <td>2020</td>\n      <td>1.7</td>\n    </tr>\n    <tr>\n      <th>2</th>\n      <td>ohio</td>\n      <td>2021</td>\n      <td>1.2</td>\n    </tr>\n    <tr>\n      <th>3</th>\n      <td>nevada</td>\n      <td>2021</td>\n      <td>1.1</td>\n    </tr>\n    <tr>\n      <th>4</th>\n      <td>ohio</td>\n      <td>2022</td>\n      <td>1.0</td>\n    </tr>\n  </tbody>\n</table>\n</div>"
     },
     "execution_count": 34,
     "metadata": {},
     "output_type": "execute_result"
    }
   ],
   "source": [
    "data = {\"state\" : [\"ohio\", \"nevada\", \"ohio\", \"nevada\", \"ohio\"],\n",
    "        \"year\" : [2020, 2020, 2021, 2021, 2022],\n",
    "        \"pop\" : [1.5, 1.7, 1.2, 1.1, 1]}\n",
    "\n",
    "import pandas as pd\n",
    "\n",
    "df = pd.DataFrame(data)\n",
    "\n",
    "df"
   ],
   "metadata": {
    "collapsed": false,
    "ExecuteTime": {
     "end_time": "2023-08-17T22:36:06.766816Z",
     "start_time": "2023-08-17T22:36:06.760826Z"
    }
   }
  },
  {
   "cell_type": "code",
   "execution_count": 40,
   "outputs": [
    {
     "data": {
      "text/plain": "    state  year  pop   test\n0    ohio  2020  1.5   True\n1  nevada  2020  1.7  False\n2    ohio  2021  1.2   True\n3  nevada  2021  1.1  False\n4    ohio  2022  1.0   True",
      "text/html": "<div>\n<style scoped>\n    .dataframe tbody tr th:only-of-type {\n        vertical-align: middle;\n    }\n\n    .dataframe tbody tr th {\n        vertical-align: top;\n    }\n\n    .dataframe thead th {\n        text-align: right;\n    }\n</style>\n<table border=\"1\" class=\"dataframe\">\n  <thead>\n    <tr style=\"text-align: right;\">\n      <th></th>\n      <th>state</th>\n      <th>year</th>\n      <th>pop</th>\n      <th>test</th>\n    </tr>\n  </thead>\n  <tbody>\n    <tr>\n      <th>0</th>\n      <td>ohio</td>\n      <td>2020</td>\n      <td>1.5</td>\n      <td>True</td>\n    </tr>\n    <tr>\n      <th>1</th>\n      <td>nevada</td>\n      <td>2020</td>\n      <td>1.7</td>\n      <td>False</td>\n    </tr>\n    <tr>\n      <th>2</th>\n      <td>ohio</td>\n      <td>2021</td>\n      <td>1.2</td>\n      <td>True</td>\n    </tr>\n    <tr>\n      <th>3</th>\n      <td>nevada</td>\n      <td>2021</td>\n      <td>1.1</td>\n      <td>False</td>\n    </tr>\n    <tr>\n      <th>4</th>\n      <td>ohio</td>\n      <td>2022</td>\n      <td>1.0</td>\n      <td>True</td>\n    </tr>\n  </tbody>\n</table>\n</div>"
     },
     "execution_count": 40,
     "metadata": {},
     "output_type": "execute_result"
    }
   ],
   "source": [
    "df['test'] = df['state'] == 'ohio'\n",
    "df"
   ],
   "metadata": {
    "collapsed": false,
    "ExecuteTime": {
     "end_time": "2023-08-17T22:41:17.250172Z",
     "start_time": "2023-08-17T22:41:17.247250Z"
    }
   }
  },
  {
   "cell_type": "markdown",
   "source": [
    "넘파이 배열과 유사한 문법으로 데이터를 전치할 수 있다."
   ],
   "metadata": {
    "collapsed": false
   }
  },
  {
   "cell_type": "code",
   "execution_count": 42,
   "outputs": [
    {
     "data": {
      "text/plain": "          0       1     2       3     4\nstate  ohio  nevada  ohio  nevada  ohio\nyear   2020    2020  2021    2021  2022\npop     1.5     1.7   1.2     1.1   1.0\ntest   True   False  True   False  True",
      "text/html": "<div>\n<style scoped>\n    .dataframe tbody tr th:only-of-type {\n        vertical-align: middle;\n    }\n\n    .dataframe tbody tr th {\n        vertical-align: top;\n    }\n\n    .dataframe thead th {\n        text-align: right;\n    }\n</style>\n<table border=\"1\" class=\"dataframe\">\n  <thead>\n    <tr style=\"text-align: right;\">\n      <th></th>\n      <th>0</th>\n      <th>1</th>\n      <th>2</th>\n      <th>3</th>\n      <th>4</th>\n    </tr>\n  </thead>\n  <tbody>\n    <tr>\n      <th>state</th>\n      <td>ohio</td>\n      <td>nevada</td>\n      <td>ohio</td>\n      <td>nevada</td>\n      <td>ohio</td>\n    </tr>\n    <tr>\n      <th>year</th>\n      <td>2020</td>\n      <td>2020</td>\n      <td>2021</td>\n      <td>2021</td>\n      <td>2022</td>\n    </tr>\n    <tr>\n      <th>pop</th>\n      <td>1.5</td>\n      <td>1.7</td>\n      <td>1.2</td>\n      <td>1.1</td>\n      <td>1.0</td>\n    </tr>\n    <tr>\n      <th>test</th>\n      <td>True</td>\n      <td>False</td>\n      <td>True</td>\n      <td>False</td>\n      <td>True</td>\n    </tr>\n  </tbody>\n</table>\n</div>"
     },
     "execution_count": 42,
     "metadata": {},
     "output_type": "execute_result"
    }
   ],
   "source": [
    "df_T = df.T\n",
    "\n",
    "df_T"
   ],
   "metadata": {
    "collapsed": false,
    "ExecuteTime": {
     "end_time": "2023-08-17T22:41:33.753549Z",
     "start_time": "2023-08-17T22:41:33.750436Z"
    }
   }
  },
  {
   "cell_type": "code",
   "execution_count": 43,
   "outputs": [
    {
     "data": {
      "text/plain": "    state  year  pop   test\n0    ohio  2020  1.5   True\n1  nevada  2020  1.7  False\n2    ohio  2021  1.2   True\n3  nevada  2021  1.1  False\n4    ohio  2022  1.0   True",
      "text/html": "<div>\n<style scoped>\n    .dataframe tbody tr th:only-of-type {\n        vertical-align: middle;\n    }\n\n    .dataframe tbody tr th {\n        vertical-align: top;\n    }\n\n    .dataframe thead th {\n        text-align: right;\n    }\n</style>\n<table border=\"1\" class=\"dataframe\">\n  <thead>\n    <tr style=\"text-align: right;\">\n      <th></th>\n      <th>state</th>\n      <th>year</th>\n      <th>pop</th>\n      <th>test</th>\n    </tr>\n  </thead>\n  <tbody>\n    <tr>\n      <th>0</th>\n      <td>ohio</td>\n      <td>2020</td>\n      <td>1.5</td>\n      <td>True</td>\n    </tr>\n    <tr>\n      <th>1</th>\n      <td>nevada</td>\n      <td>2020</td>\n      <td>1.7</td>\n      <td>False</td>\n    </tr>\n    <tr>\n      <th>2</th>\n      <td>ohio</td>\n      <td>2021</td>\n      <td>1.2</td>\n      <td>True</td>\n    </tr>\n    <tr>\n      <th>3</th>\n      <td>nevada</td>\n      <td>2021</td>\n      <td>1.1</td>\n      <td>False</td>\n    </tr>\n    <tr>\n      <th>4</th>\n      <td>ohio</td>\n      <td>2022</td>\n      <td>1.0</td>\n      <td>True</td>\n    </tr>\n  </tbody>\n</table>\n</div>"
     },
     "execution_count": 43,
     "metadata": {},
     "output_type": "execute_result"
    }
   ],
   "source": [
    "df_T.T"
   ],
   "metadata": {
    "collapsed": false,
    "ExecuteTime": {
     "end_time": "2023-08-17T22:41:34.634352Z",
     "start_time": "2023-08-17T22:41:34.619054Z"
    }
   }
  },
  {
   "cell_type": "markdown",
   "source": [
    "배열과 유사하게 Index 객체도 고정된 크기로 작동한다."
   ],
   "metadata": {
    "collapsed": false
   }
  },
  {
   "cell_type": "code",
   "execution_count": 45,
   "outputs": [
    {
     "data": {
      "text/plain": "          0       1     2       3     4\nstate  ohio  nevada  ohio  nevada  ohio\nyear   2020    2020  2021    2021  2022\npop     1.5     1.7   1.2     1.1   1.0\ntest   True   False  True   False  True",
      "text/html": "<div>\n<style scoped>\n    .dataframe tbody tr th:only-of-type {\n        vertical-align: middle;\n    }\n\n    .dataframe tbody tr th {\n        vertical-align: top;\n    }\n\n    .dataframe thead th {\n        text-align: right;\n    }\n</style>\n<table border=\"1\" class=\"dataframe\">\n  <thead>\n    <tr style=\"text-align: right;\">\n      <th></th>\n      <th>0</th>\n      <th>1</th>\n      <th>2</th>\n      <th>3</th>\n      <th>4</th>\n    </tr>\n  </thead>\n  <tbody>\n    <tr>\n      <th>state</th>\n      <td>ohio</td>\n      <td>nevada</td>\n      <td>ohio</td>\n      <td>nevada</td>\n      <td>ohio</td>\n    </tr>\n    <tr>\n      <th>year</th>\n      <td>2020</td>\n      <td>2020</td>\n      <td>2021</td>\n      <td>2021</td>\n      <td>2022</td>\n    </tr>\n    <tr>\n      <th>pop</th>\n      <td>1.5</td>\n      <td>1.7</td>\n      <td>1.2</td>\n      <td>1.1</td>\n      <td>1.0</td>\n    </tr>\n    <tr>\n      <th>test</th>\n      <td>True</td>\n      <td>False</td>\n      <td>True</td>\n      <td>False</td>\n      <td>True</td>\n    </tr>\n  </tbody>\n</table>\n</div>"
     },
     "execution_count": 45,
     "metadata": {},
     "output_type": "execute_result"
    }
   ],
   "source": [
    "df_T"
   ],
   "metadata": {
    "collapsed": false,
    "ExecuteTime": {
     "end_time": "2023-08-17T22:45:23.444293Z",
     "start_time": "2023-08-17T22:45:23.437637Z"
    }
   }
  },
  {
   "cell_type": "code",
   "execution_count": 46,
   "outputs": [
    {
     "data": {
      "text/plain": "RangeIndex(start=0, stop=5, step=1)"
     },
     "execution_count": 46,
     "metadata": {},
     "output_type": "execute_result"
    }
   ],
   "source": [
    "df_T.columns"
   ],
   "metadata": {
    "collapsed": false,
    "ExecuteTime": {
     "end_time": "2023-08-17T22:45:29.303012Z",
     "start_time": "2023-08-17T22:45:29.296426Z"
    }
   }
  },
  {
   "cell_type": "code",
   "execution_count": 47,
   "outputs": [
    {
     "data": {
      "text/plain": "True"
     },
     "execution_count": 47,
     "metadata": {},
     "output_type": "execute_result"
    }
   ],
   "source": [
    "3 in df_T.columns"
   ],
   "metadata": {
    "collapsed": false,
    "ExecuteTime": {
     "end_time": "2023-08-17T22:45:42.852016Z",
     "start_time": "2023-08-17T22:45:42.845784Z"
    }
   }
  },
  {
   "cell_type": "code",
   "execution_count": 48,
   "outputs": [
    {
     "data": {
      "text/plain": "False"
     },
     "execution_count": 48,
     "metadata": {},
     "output_type": "execute_result"
    }
   ],
   "source": [
    "\"ohio\" in df.index"
   ],
   "metadata": {
    "collapsed": false,
    "ExecuteTime": {
     "end_time": "2023-08-17T22:45:55.555764Z",
     "start_time": "2023-08-17T22:45:55.551205Z"
    }
   }
  },
  {
   "cell_type": "code",
   "execution_count": 49,
   "outputs": [
    {
     "data": {
      "text/plain": "Index(['state', 'year', 'pop', 'test'], dtype='object')"
     },
     "execution_count": 49,
     "metadata": {},
     "output_type": "execute_result"
    }
   ],
   "source": [
    "df_T.index"
   ],
   "metadata": {
    "collapsed": false,
    "ExecuteTime": {
     "end_time": "2023-08-17T22:46:05.661506Z",
     "start_time": "2023-08-17T22:46:05.649328Z"
    }
   }
  },
  {
   "cell_type": "markdown",
   "source": [
    "---"
   ],
   "metadata": {
    "collapsed": false
   }
  },
  {
   "cell_type": "markdown",
   "source": [
    "### 핵심 기능"
   ],
   "metadata": {
    "collapsed": false
   }
  },
  {
   "cell_type": "code",
   "execution_count": null,
   "outputs": [],
   "source": [],
   "metadata": {
    "collapsed": false
   }
  }
 ],
 "metadata": {
  "kernelspec": {
   "display_name": "Python 3",
   "language": "python",
   "name": "python3"
  },
  "language_info": {
   "codemirror_mode": {
    "name": "ipython",
    "version": 2
   },
   "file_extension": ".py",
   "mimetype": "text/x-python",
   "name": "python",
   "nbconvert_exporter": "python",
   "pygments_lexer": "ipython2",
   "version": "2.7.6"
  }
 },
 "nbformat": 4,
 "nbformat_minor": 0
}
