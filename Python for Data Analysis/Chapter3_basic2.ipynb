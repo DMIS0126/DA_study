{
 "cells": [
  {
   "cell_type": "markdown",
   "source": [
    "## 3장 내장 자료구조, 함수, 파일"
   ],
   "metadata": {
    "collapsed": false
   }
  },
  {
   "cell_type": "markdown",
   "source": [
    "#### 튜플\n",
    "튜플은 한 번 할당되면 변경할 수 없는, 고정 길이를 갖는 파이썬의 순차 자료형이다.\n",
    "튜플을 생성하는 가장 쉬운 방법은 쉼표로 구분되는 일련의 값을 괄호로 감싸는 것이다."
   ],
   "metadata": {
    "collapsed": false
   }
  },
  {
   "cell_type": "code",
   "execution_count": 1,
   "outputs": [
    {
     "data": {
      "text/plain": "(1, 2, 3)"
     },
     "execution_count": 1,
     "metadata": {},
     "output_type": "execute_result"
    }
   ],
   "source": [
    "tup = (1, 2, 3)\n",
    "tup"
   ],
   "metadata": {
    "collapsed": false,
    "ExecuteTime": {
     "end_time": "2023-08-15T22:41:07.012679Z",
     "start_time": "2023-08-15T22:41:07.009526Z"
    }
   }
  },
  {
   "cell_type": "markdown",
   "source": [
    "다음과 같이 괄호를 생략하는 경우도 있다."
   ],
   "metadata": {
    "collapsed": false
   }
  },
  {
   "cell_type": "code",
   "execution_count": 2,
   "outputs": [
    {
     "data": {
      "text/plain": "(4, 5, 6)"
     },
     "execution_count": 2,
     "metadata": {},
     "output_type": "execute_result"
    }
   ],
   "source": [
    "tup2 = 4, 5, 6\n",
    "tup2"
   ],
   "metadata": {
    "collapsed": false,
    "ExecuteTime": {
     "end_time": "2023-08-15T22:41:35.622379Z",
     "start_time": "2023-08-15T22:41:35.616593Z"
    }
   }
  },
  {
   "cell_type": "markdown",
   "source": [
    "모든 순차 자료형이나 이터레이터는 tuple 매서드를 통해 튜플로 변환할 수 있다."
   ],
   "metadata": {
    "collapsed": false
   }
  },
  {
   "cell_type": "code",
   "execution_count": 5,
   "outputs": [
    {
     "name": "stdout",
     "output_type": "stream",
     "text": [
      "(4, 0, 2)\n",
      "\n",
      "\n",
      "('s', 't', 'r', 'i', 'n', 'g')\n"
     ]
    }
   ],
   "source": [
    "print(tuple([4, 0, 2]))\n",
    "print('\\n')\n",
    "print(tuple(\"string\"))"
   ],
   "metadata": {
    "collapsed": false,
    "ExecuteTime": {
     "end_time": "2023-08-15T22:42:31.389545Z",
     "start_time": "2023-08-15T22:42:31.386104Z"
    }
   }
  },
  {
   "cell_type": "markdown",
   "source": [
    "튜플의 튜플을 생성하는 경우, 괄호로 값을 묶어준다."
   ],
   "metadata": {
    "collapsed": false
   }
  },
  {
   "cell_type": "code",
   "execution_count": 6,
   "outputs": [
    {
     "name": "stdout",
     "output_type": "stream",
     "text": [
      "((4, 5, 6), (1, 2))\n",
      "(1, 2)\n"
     ]
    }
   ],
   "source": [
    "nested_tup = (4, 5, 6), (1, 2)\n",
    "print(nested_tup)\n",
    "print(nested_tup[1])"
   ],
   "metadata": {
    "collapsed": false,
    "ExecuteTime": {
     "end_time": "2023-08-15T22:44:06.877896Z",
     "start_time": "2023-08-15T22:44:06.875389Z"
    }
   }
  },
  {
   "cell_type": "markdown",
   "source": [
    "튜플에 저장된 객체 자체는 변경이 가능하지만, 한 번 생성되면 각 슬롯에 저장된 객체를 변경하는 것은 불가능하다."
   ],
   "metadata": {
    "collapsed": false
   }
  },
  {
   "cell_type": "code",
   "execution_count": 8,
   "outputs": [
    {
     "ename": "TypeError",
     "evalue": "'tuple' object does not support item assignment",
     "output_type": "error",
     "traceback": [
      "\u001B[0;31m---------------------------------------------------------------------------\u001B[0m",
      "\u001B[0;31mTypeError\u001B[0m                                 Traceback (most recent call last)",
      "Cell \u001B[0;32mIn[8], line 2\u001B[0m\n\u001B[1;32m      1\u001B[0m tup \u001B[38;5;241m=\u001B[39m \u001B[38;5;28mtuple\u001B[39m([\u001B[38;5;124m'\u001B[39m\u001B[38;5;124mfoo\u001B[39m\u001B[38;5;124m'\u001B[39m, [\u001B[38;5;241m1\u001B[39m, \u001B[38;5;241m2\u001B[39m], \u001B[38;5;28;01mTrue\u001B[39;00m, \u001B[38;5;241m4\u001B[39m])\n\u001B[0;32m----> 2\u001B[0m tup[\u001B[38;5;241m2\u001B[39m] \u001B[38;5;241m=\u001B[39m \u001B[38;5;28;01mFalse\u001B[39;00m\n",
      "\u001B[0;31mTypeError\u001B[0m: 'tuple' object does not support item assignment"
     ]
    }
   ],
   "source": [
    "tup = tuple(['foo', [1, 2], True, 4])\n",
    "tup[2] = False"
   ],
   "metadata": {
    "collapsed": false,
    "ExecuteTime": {
     "end_time": "2023-08-15T22:44:53.413326Z",
     "start_time": "2023-08-15T22:44:53.204417Z"
    }
   }
  },
  {
   "cell_type": "code",
   "execution_count": 9,
   "outputs": [
    {
     "data": {
      "text/plain": "('foo', [1, 2, 3], True, 4)"
     },
     "execution_count": 9,
     "metadata": {},
     "output_type": "execute_result"
    }
   ],
   "source": [
    "tup[1].append(3)\n",
    "tup"
   ],
   "metadata": {
    "collapsed": false,
    "ExecuteTime": {
     "end_time": "2023-08-15T22:45:03.791345Z",
     "start_time": "2023-08-15T22:45:03.787810Z"
    }
   }
  },
  {
   "cell_type": "markdown",
   "source": [],
   "metadata": {
    "collapsed": false
   }
  },
  {
   "cell_type": "markdown",
   "source": [
    "#### 리스트\n",
    "리스트는 튜플과 다르게 크기나 내용을 변경할 수 있다.\n",
    "리스트는 대괄호([])나 list 함수를 사용하여 생성한다."
   ],
   "metadata": {
    "collapsed": false
   }
  },
  {
   "cell_type": "code",
   "execution_count": 15,
   "outputs": [
    {
     "name": "stdout",
     "output_type": "stream",
     "text": [
      "['foo', 'bar', 'baz']\n",
      "['foo', 'peekaboo', 'baz']\n",
      "('foo', 'peekaboo', 'baz')\n"
     ]
    }
   ],
   "source": [
    "a_list = [2, 3, 5, False]\n",
    "tup = ('foo', 'bar', 'baz')\n",
    "b_list = list(tup)\n",
    "print(b_list)\n",
    "\n",
    "b_list[1] = 'peekaboo'\n",
    "print(b_list)\n",
    "\n",
    "tup = tuple(b_list)\n",
    "print(tup)"
   ],
   "metadata": {
    "collapsed": false,
    "ExecuteTime": {
     "end_time": "2023-08-15T22:48:36.241773Z",
     "start_time": "2023-08-15T22:48:36.237251Z"
    }
   }
  },
  {
   "cell_type": "markdown",
   "source": [
    "sort 함수를 이용하여 새로운 리스트를 생성하지 않고 있는 그대로 리스트를 정렬할 수 있다."
   ],
   "metadata": {
    "collapsed": false
   }
  },
  {
   "cell_type": "code",
   "execution_count": 20,
   "outputs": [
    {
     "name": "stdout",
     "output_type": "stream",
     "text": [
      "[1, 2, 3, 5, 6, 7, 10]\n"
     ]
    }
   ],
   "source": [
    "a = [1, 5, 2, 7, 10, 3, 6]\n",
    "a.sort()\n",
    "print(a)"
   ],
   "metadata": {
    "collapsed": false,
    "ExecuteTime": {
     "end_time": "2023-08-15T22:54:50.933159Z",
     "start_time": "2023-08-15T22:54:50.930836Z"
    }
   }
  },
  {
   "cell_type": "markdown",
   "source": [
    "---"
   ],
   "metadata": {
    "collapsed": false
   }
  },
  {
   "cell_type": "markdown",
   "source": [
    "#### 딕셔너리\n",
    "딕셔너리(dict)는 파이썬 내장 자료구조 중에서 가장 중요한 자료구조다.\n",
    "다른 프로그래밍 언어에서는 해시 맵 또는 연관 배열이라고 알려져 있다.\n",
    "딕셔너리는 키-값 쌍을 저장하며 키와 값은 모두 파이썬 객체다.\n",
    "각 키는 값과 연관되어 특정 키가 주어지면 값을 편리하게 검색, 삽입, 수정 또는 삭제할 수 있따.\n",
    "중괄호({})를 사용해 콜론으로 구분된 키와 값을 둘러싸면 딕셔너리가 생성된다."
   ],
   "metadata": {
    "collapsed": false
   }
  },
  {
   "cell_type": "code",
   "execution_count": 38,
   "outputs": [
    {
     "data": {
      "text/plain": "{'a': 'some value', 'b': [1, 2, 3, 4], 'c': 1}"
     },
     "execution_count": 38,
     "metadata": {},
     "output_type": "execute_result"
    }
   ],
   "source": [
    "empty_dict = {}\n",
    "d1 = {\"a\" : \"some value\", \"b\" : [1, 2, 3, 4], \"c\" : 1}\n",
    "d1"
   ],
   "metadata": {
    "collapsed": false,
    "ExecuteTime": {
     "end_time": "2023-08-15T23:00:55.424999Z",
     "start_time": "2023-08-15T23:00:55.418673Z"
    }
   }
  },
  {
   "cell_type": "code",
   "execution_count": 39,
   "outputs": [
    {
     "data": {
      "text/plain": "{'a': 'some value', 'b': [1, 2, 3, 4], 'c': 1, 7: 'an integer'}"
     },
     "execution_count": 39,
     "metadata": {},
     "output_type": "execute_result"
    }
   ],
   "source": [
    "d1[7] = \"an integer\"\n",
    "d1"
   ],
   "metadata": {
    "collapsed": false,
    "ExecuteTime": {
     "end_time": "2023-08-15T23:00:55.874585Z",
     "start_time": "2023-08-15T23:00:55.869429Z"
    }
   }
  },
  {
   "cell_type": "code",
   "execution_count": 40,
   "outputs": [
    {
     "data": {
      "text/plain": "[1, 2, 3, 4]"
     },
     "execution_count": 40,
     "metadata": {},
     "output_type": "execute_result"
    }
   ],
   "source": [
    "d1[\"b\"]"
   ],
   "metadata": {
    "collapsed": false,
    "ExecuteTime": {
     "end_time": "2023-08-15T23:00:56.327141Z",
     "start_time": "2023-08-15T23:00:56.320633Z"
    }
   }
  },
  {
   "cell_type": "markdown",
   "source": [
    "del 예약어나 pop 매서드(값을 반환함과 동시에 키를 삭제)를 통해 딕셔너리의 값을 삭제할 수 있다."
   ],
   "metadata": {
    "collapsed": false
   }
  },
  {
   "cell_type": "code",
   "execution_count": 41,
   "outputs": [
    {
     "data": {
      "text/plain": "{'a': 'some value',\n 'b': [1, 2, 3, 4],\n 'c': 1,\n 7: 'an integer',\n 'dummy': 'another value'}"
     },
     "execution_count": 41,
     "metadata": {},
     "output_type": "execute_result"
    }
   ],
   "source": [
    "d1[\"f\"] = \"some value\"\n",
    "d1[\"dummy\"] = \"another value\"\n",
    "del d1[\"f\"]\n",
    "d1"
   ],
   "metadata": {
    "collapsed": false,
    "ExecuteTime": {
     "end_time": "2023-08-15T23:00:57.906194Z",
     "start_time": "2023-08-15T23:00:57.899194Z"
    }
   }
  },
  {
   "cell_type": "code",
   "execution_count": 42,
   "outputs": [
    {
     "name": "stdout",
     "output_type": "stream",
     "text": [
      "ret : \t another value\n",
      "d1 : \t {'a': 'some value', 'b': [1, 2, 3, 4], 'c': 1, 7: 'an integer'}\n"
     ]
    }
   ],
   "source": [
    "ret = d1.pop(\"dummy\")\n",
    "print(\"ret : \\t\", ret)\n",
    "print(\"d1 : \\t\", d1)"
   ],
   "metadata": {
    "collapsed": false,
    "ExecuteTime": {
     "end_time": "2023-08-15T23:00:59.567895Z",
     "start_time": "2023-08-15T23:00:59.561369Z"
    }
   }
  },
  {
   "cell_type": "markdown",
   "source": [
    "---"
   ],
   "metadata": {
    "collapsed": false
   }
  },
  {
   "cell_type": "markdown",
   "source": [
    "#### 내장 순차 자료형 함수\n",
    "* enumerate : 순차 자료형에서 현재 아이템의 색인을 함께 추정할 때 흔히 사용된다.\n",
    "* sorted : 정렬된 새로운 순차 자료형을 반환한다.\n",
    "* zip : 여러 개의 리스트나 튜플 또는 다른 순차 자료형을 서로 짝지어서 튜플 리스트를 생성한다.\n",
    "* reversed : 순차 자료형을 역순으로 순회한다."
   ],
   "metadata": {
    "collapsed": false
   }
  },
  {
   "cell_type": "code",
   "execution_count": null,
   "outputs": [],
   "source": [
    "sad"
   ],
   "metadata": {
    "collapsed": false
   }
  }
 ],
 "metadata": {
  "kernelspec": {
   "display_name": "Python 3",
   "language": "python",
   "name": "python3"
  },
  "language_info": {
   "codemirror_mode": {
    "name": "ipython",
    "version": 2
   },
   "file_extension": ".py",
   "mimetype": "text/x-python",
   "name": "python",
   "nbconvert_exporter": "python",
   "pygments_lexer": "ipython2",
   "version": "2.7.6"
  }
 },
 "nbformat": 4,
 "nbformat_minor": 0
}
