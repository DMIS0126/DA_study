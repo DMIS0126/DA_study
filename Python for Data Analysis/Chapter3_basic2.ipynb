{
 "cells": [
  {
   "cell_type": "markdown",
   "source": [
    "## 3장 내장 자료구조, 함수, 파일"
   ],
   "metadata": {
    "collapsed": false
   }
  },
  {
   "cell_type": "markdown",
   "source": [
    "#### 튜플\n",
    "튜플은 한 번 할당되면 변경할 수 없는, 고정 길이를 갖는 파이썬의 순차 자료형이다.\n",
    "튜플을 생성하는 가장 쉬운 방법은 쉼표로 구분되는 일련의 값을 괄호로 감싸는 것이다."
   ],
   "metadata": {
    "collapsed": false
   }
  },
  {
   "cell_type": "code",
   "execution_count": 12,
   "outputs": [
    {
     "data": {
      "text/plain": "(1, 2, 3)"
     },
     "execution_count": 12,
     "metadata": {},
     "output_type": "execute_result"
    }
   ],
   "source": [
    "tup = (1, 2, 3)\n",
    "tup"
   ],
   "metadata": {
    "collapsed": false,
    "ExecuteTime": {
     "end_time": "2023-08-16T21:43:21.437663Z",
     "start_time": "2023-08-16T21:43:21.428850Z"
    }
   }
  },
  {
   "cell_type": "markdown",
   "source": [
    "다음과 같이 괄호를 생략하는 경우도 있다."
   ],
   "metadata": {
    "collapsed": false
   }
  },
  {
   "cell_type": "code",
   "execution_count": 13,
   "outputs": [
    {
     "data": {
      "text/plain": "(4, 5, 6)"
     },
     "execution_count": 13,
     "metadata": {},
     "output_type": "execute_result"
    }
   ],
   "source": [
    "tup2 = 4, 5, 6\n",
    "tup2"
   ],
   "metadata": {
    "collapsed": false,
    "ExecuteTime": {
     "end_time": "2023-08-16T21:43:21.996922Z",
     "start_time": "2023-08-16T21:43:21.991195Z"
    }
   }
  },
  {
   "cell_type": "markdown",
   "source": [
    "모든 순차 자료형이나 이터레이터는 tuple 매서드를 통해 튜플로 변환할 수 있다."
   ],
   "metadata": {
    "collapsed": false
   }
  },
  {
   "cell_type": "code",
   "execution_count": 14,
   "outputs": [
    {
     "name": "stdout",
     "output_type": "stream",
     "text": [
      "(4, 0, 2)\n",
      "\n",
      "\n",
      "('s', 't', 'r', 'i', 'n', 'g')\n"
     ]
    }
   ],
   "source": [
    "print(tuple([4, 0, 2]))\n",
    "print('\\n')\n",
    "print(tuple(\"string\"))"
   ],
   "metadata": {
    "collapsed": false,
    "ExecuteTime": {
     "end_time": "2023-08-16T21:43:22.382206Z",
     "start_time": "2023-08-16T21:43:22.375237Z"
    }
   }
  },
  {
   "cell_type": "markdown",
   "source": [
    "튜플의 튜플을 생성하는 경우, 괄호로 값을 묶어준다."
   ],
   "metadata": {
    "collapsed": false
   }
  },
  {
   "cell_type": "code",
   "execution_count": 15,
   "outputs": [
    {
     "name": "stdout",
     "output_type": "stream",
     "text": [
      "((4, 5, 6), (1, 2))\n",
      "(1, 2)\n"
     ]
    }
   ],
   "source": [
    "nested_tup = (4, 5, 6), (1, 2)\n",
    "print(nested_tup)\n",
    "print(nested_tup[1])"
   ],
   "metadata": {
    "collapsed": false,
    "ExecuteTime": {
     "end_time": "2023-08-16T21:43:22.650462Z",
     "start_time": "2023-08-16T21:43:22.646290Z"
    }
   }
  },
  {
   "cell_type": "markdown",
   "source": [
    "튜플에 저장된 객체 자체는 변경이 가능하지만, 한 번 생성되면 각 슬롯에 저장된 객체를 변경하는 것은 불가능하다."
   ],
   "metadata": {
    "collapsed": false
   }
  },
  {
   "cell_type": "code",
   "execution_count": 16,
   "outputs": [
    {
     "ename": "TypeError",
     "evalue": "'tuple' object does not support item assignment",
     "output_type": "error",
     "traceback": [
      "\u001B[0;31m---------------------------------------------------------------------------\u001B[0m",
      "\u001B[0;31mTypeError\u001B[0m                                 Traceback (most recent call last)",
      "Cell \u001B[0;32mIn[16], line 2\u001B[0m\n\u001B[1;32m      1\u001B[0m tup \u001B[38;5;241m=\u001B[39m \u001B[38;5;28mtuple\u001B[39m([\u001B[38;5;124m'\u001B[39m\u001B[38;5;124mfoo\u001B[39m\u001B[38;5;124m'\u001B[39m, [\u001B[38;5;241m1\u001B[39m, \u001B[38;5;241m2\u001B[39m], \u001B[38;5;28;01mTrue\u001B[39;00m, \u001B[38;5;241m4\u001B[39m])\n\u001B[0;32m----> 2\u001B[0m tup[\u001B[38;5;241m2\u001B[39m] \u001B[38;5;241m=\u001B[39m \u001B[38;5;28;01mFalse\u001B[39;00m\n",
      "\u001B[0;31mTypeError\u001B[0m: 'tuple' object does not support item assignment"
     ]
    }
   ],
   "source": [
    "tup = tuple(['foo', [1, 2], True, 4])\n",
    "tup[2] = False"
   ],
   "metadata": {
    "collapsed": false,
    "ExecuteTime": {
     "end_time": "2023-08-16T21:43:22.903823Z",
     "start_time": "2023-08-16T21:43:22.897465Z"
    }
   }
  },
  {
   "cell_type": "code",
   "execution_count": 17,
   "outputs": [
    {
     "data": {
      "text/plain": "('foo', [1, 2, 3], True, 4)"
     },
     "execution_count": 17,
     "metadata": {},
     "output_type": "execute_result"
    }
   ],
   "source": [
    "tup[1].append(3)\n",
    "tup"
   ],
   "metadata": {
    "collapsed": false,
    "ExecuteTime": {
     "end_time": "2023-08-16T21:43:23.025550Z",
     "start_time": "2023-08-16T21:43:23.017881Z"
    }
   }
  },
  {
   "cell_type": "markdown",
   "source": [],
   "metadata": {
    "collapsed": false
   }
  },
  {
   "cell_type": "markdown",
   "source": [
    "#### 리스트\n",
    "리스트는 튜플과 다르게 크기나 내용을 변경할 수 있다.\n",
    "리스트는 대괄호([])나 list 함수를 사용하여 생성한다."
   ],
   "metadata": {
    "collapsed": false
   }
  },
  {
   "cell_type": "code",
   "execution_count": 18,
   "outputs": [
    {
     "name": "stdout",
     "output_type": "stream",
     "text": [
      "['foo', 'bar', 'baz']\n",
      "['foo', 'peekaboo', 'baz']\n",
      "('foo', 'peekaboo', 'baz')\n"
     ]
    }
   ],
   "source": [
    "a_list = [2, 3, 5, False]\n",
    "tup = ('foo', 'bar', 'baz')\n",
    "b_list = list(tup)\n",
    "print(b_list)\n",
    "\n",
    "b_list[1] = 'peekaboo'\n",
    "print(b_list)\n",
    "\n",
    "tup = tuple(b_list)\n",
    "print(tup)"
   ],
   "metadata": {
    "collapsed": false,
    "ExecuteTime": {
     "end_time": "2023-08-16T21:43:23.421336Z",
     "start_time": "2023-08-16T21:43:23.414658Z"
    }
   }
  },
  {
   "cell_type": "markdown",
   "source": [
    "sort 함수를 이용하여 새로운 리스트를 생성하지 않고 있는 그대로 리스트를 정렬할 수 있다."
   ],
   "metadata": {
    "collapsed": false
   }
  },
  {
   "cell_type": "code",
   "execution_count": 19,
   "outputs": [
    {
     "name": "stdout",
     "output_type": "stream",
     "text": [
      "[1, 2, 3, 5, 6, 7, 10]\n"
     ]
    }
   ],
   "source": [
    "a = [1, 5, 2, 7, 10, 3, 6]\n",
    "a.sort()\n",
    "print(a)"
   ],
   "metadata": {
    "collapsed": false,
    "ExecuteTime": {
     "end_time": "2023-08-16T21:43:23.852687Z",
     "start_time": "2023-08-16T21:43:23.843580Z"
    }
   }
  },
  {
   "cell_type": "markdown",
   "source": [
    "---"
   ],
   "metadata": {
    "collapsed": false
   }
  },
  {
   "cell_type": "markdown",
   "source": [
    "#### 딕셔너리\n",
    "딕셔너리(dict)는 파이썬 내장 자료구조 중에서 가장 중요한 자료구조다.\n",
    "다른 프로그래밍 언어에서는 해시 맵 또는 연관 배열이라고 알려져 있다.\n",
    "딕셔너리는 키-값 쌍을 저장하며 키와 값은 모두 파이썬 객체다.\n",
    "각 키는 값과 연관되어 특정 키가 주어지면 값을 편리하게 검색, 삽입, 수정 또는 삭제할 수 있따.\n",
    "중괄호({})를 사용해 콜론으로 구분된 키와 값을 둘러싸면 딕셔너리가 생성된다."
   ],
   "metadata": {
    "collapsed": false
   }
  },
  {
   "cell_type": "code",
   "execution_count": 20,
   "outputs": [
    {
     "data": {
      "text/plain": "{'a': 'some value', 'b': [1, 2, 3, 4], 'c': 1}"
     },
     "execution_count": 20,
     "metadata": {},
     "output_type": "execute_result"
    }
   ],
   "source": [
    "empty_dict = {}\n",
    "d1 = {\"a\" : \"some value\", \"b\" : [1, 2, 3, 4], \"c\" : 1}\n",
    "d1"
   ],
   "metadata": {
    "collapsed": false,
    "ExecuteTime": {
     "end_time": "2023-08-16T21:43:24.301903Z",
     "start_time": "2023-08-16T21:43:24.295752Z"
    }
   }
  },
  {
   "cell_type": "code",
   "execution_count": 21,
   "outputs": [
    {
     "data": {
      "text/plain": "{'a': 'some value', 'b': [1, 2, 3, 4], 'c': 1, 7: 'an integer'}"
     },
     "execution_count": 21,
     "metadata": {},
     "output_type": "execute_result"
    }
   ],
   "source": [
    "d1[7] = \"an integer\"\n",
    "d1"
   ],
   "metadata": {
    "collapsed": false,
    "ExecuteTime": {
     "end_time": "2023-08-16T21:43:24.439333Z",
     "start_time": "2023-08-16T21:43:24.433068Z"
    }
   }
  },
  {
   "cell_type": "code",
   "execution_count": 22,
   "outputs": [
    {
     "data": {
      "text/plain": "[1, 2, 3, 4]"
     },
     "execution_count": 22,
     "metadata": {},
     "output_type": "execute_result"
    }
   ],
   "source": [
    "d1[\"b\"]"
   ],
   "metadata": {
    "collapsed": false,
    "ExecuteTime": {
     "end_time": "2023-08-16T21:43:24.574524Z",
     "start_time": "2023-08-16T21:43:24.566512Z"
    }
   }
  },
  {
   "cell_type": "markdown",
   "source": [
    "del 예약어나 pop 매서드(값을 반환함과 동시에 키를 삭제)를 통해 딕셔너리의 값을 삭제할 수 있다."
   ],
   "metadata": {
    "collapsed": false
   }
  },
  {
   "cell_type": "code",
   "execution_count": 23,
   "outputs": [
    {
     "data": {
      "text/plain": "{'a': 'some value',\n 'b': [1, 2, 3, 4],\n 'c': 1,\n 7: 'an integer',\n 'dummy': 'another value'}"
     },
     "execution_count": 23,
     "metadata": {},
     "output_type": "execute_result"
    }
   ],
   "source": [
    "d1[\"f\"] = \"some value\"\n",
    "d1[\"dummy\"] = \"another value\"\n",
    "del d1[\"f\"]\n",
    "d1"
   ],
   "metadata": {
    "collapsed": false,
    "ExecuteTime": {
     "end_time": "2023-08-16T21:43:24.869641Z",
     "start_time": "2023-08-16T21:43:24.863327Z"
    }
   }
  },
  {
   "cell_type": "code",
   "execution_count": 24,
   "outputs": [
    {
     "name": "stdout",
     "output_type": "stream",
     "text": [
      "ret : \t another value\n",
      "d1 : \t {'a': 'some value', 'b': [1, 2, 3, 4], 'c': 1, 7: 'an integer'}\n"
     ]
    }
   ],
   "source": [
    "ret = d1.pop(\"dummy\")\n",
    "print(\"ret : \\t\", ret)\n",
    "print(\"d1 : \\t\", d1)"
   ],
   "metadata": {
    "collapsed": false,
    "ExecuteTime": {
     "end_time": "2023-08-16T21:43:24.972727Z",
     "start_time": "2023-08-16T21:43:24.966728Z"
    }
   }
  },
  {
   "cell_type": "markdown",
   "source": [
    "---"
   ],
   "metadata": {
    "collapsed": false
   }
  },
  {
   "cell_type": "markdown",
   "source": [
    "#### 내장 순차 자료형 함수\n",
    "* enumerate : 순차 자료형에서 현재 아이템의 색인을 함께 추정할 때 흔히 사용된다.\n",
    "* sorted : 정렬된 새로운 순차 자료형을 반환한다.\n",
    "* zip : 여러 개의 리스트나 튜플 또는 다른 순차 자료형을 서로 짝지어서 튜플 리스트를 생성한다.\n",
    "* reversed : 순차 자료형을 역순으로 순회한다."
   ],
   "metadata": {
    "collapsed": false
   }
  },
  {
   "cell_type": "code",
   "execution_count": 25,
   "outputs": [
    {
     "name": "stdout",
     "output_type": "stream",
     "text": [
      "(0, 'a')\n",
      "(1, 'b')\n",
      "(2, 'c')\n"
     ]
    }
   ],
   "source": [
    "# enumerate\n",
    "collection = ['a', 'b', 'c']\n",
    "\n",
    "for index, value in enumerate(collection):\n",
    "    print((index, value))"
   ],
   "metadata": {
    "collapsed": false,
    "ExecuteTime": {
     "end_time": "2023-08-16T21:43:25.354923Z",
     "start_time": "2023-08-16T21:43:25.351343Z"
    }
   }
  },
  {
   "cell_type": "code",
   "execution_count": 29,
   "outputs": [
    {
     "name": "stdout",
     "output_type": "stream",
     "text": [
      "[1, 2, 3, 4, 5, 7, 8, 9]\n",
      "[' ', 'a', 'c', 'e', 'e', 'h', 'o', 'r', 'r', 's']\n"
     ]
    }
   ],
   "source": [
    "# sorted\n",
    "print(sorted([7, 1, 2, 5, 3, 9, 4, 8]))\n",
    "\n",
    "print(sorted('horse race'))"
   ],
   "metadata": {
    "collapsed": false,
    "ExecuteTime": {
     "end_time": "2023-08-16T21:44:23.991772Z",
     "start_time": "2023-08-16T21:44:23.987125Z"
    }
   }
  },
  {
   "cell_type": "code",
   "execution_count": 1,
   "outputs": [
    {
     "name": "stdout",
     "output_type": "stream",
     "text": [
      "[('foo', 'one'), ('bar', 'two'), ('baz', 'three')]\n",
      "[('foo', 'one', True), ('bar', 'two', False)]\n",
      "0 : foo, one\n",
      "1 : bar, two\n",
      "2 : baz, three\n"
     ]
    }
   ],
   "source": [
    "# zip\n",
    "seq1 = ['foo', 'bar', 'baz']\n",
    "seq2 = ['one', 'two', 'three']\n",
    "zipped = zip(seq1, seq2)\n",
    "print(list(zipped))\n",
    "\n",
    "seq3 = [True, False]\n",
    "zipped2 = zip(seq1, seq2, seq3)\n",
    "print(list(zipped2))\n",
    "\n",
    "for index, (a, b) in enumerate(zip(seq1, seq2)):\n",
    "    print(f\"{index} : {a}, {b}\")"
   ],
   "metadata": {
    "collapsed": false,
    "ExecuteTime": {
     "end_time": "2023-08-16T21:47:47.113310Z",
     "start_time": "2023-08-16T21:47:47.088166Z"
    }
   }
  },
  {
   "cell_type": "code",
   "execution_count": 3,
   "outputs": [
    {
     "name": "stdout",
     "output_type": "stream",
     "text": [
      "[19, 18, 17, 16, 15, 14, 13, 12, 11, 10, 9, 8, 7, 6, 5, 4, 3, 2, 1, 0]\n"
     ]
    }
   ],
   "source": [
    "# reversed\n",
    "print(list(reversed(range(20))))"
   ],
   "metadata": {
    "collapsed": false,
    "ExecuteTime": {
     "end_time": "2023-08-16T21:48:14.878270Z",
     "start_time": "2023-08-16T21:48:14.872180Z"
    }
   }
  },
  {
   "cell_type": "markdown",
   "source": [
    "---"
   ],
   "metadata": {
    "collapsed": false
   }
  },
  {
   "cell_type": "markdown",
   "source": [
    "#### 리스트, 집합, 딕셔너리 표기법"
   ],
   "metadata": {
    "collapsed": false
   }
  },
  {
   "cell_type": "code",
   "execution_count": 16,
   "outputs": [
    {
     "name": "stdout",
     "output_type": "stream",
     "text": [
      "0 : 3, ABC\n",
      "1 : 4, ABCD\n",
      "2 : 5, ABCDE\n"
     ]
    }
   ],
   "source": [
    "# 리스트\n",
    "# [expr for value in collection if condition]\n",
    "# => result = []\n",
    "#    for value in collection:\n",
    "#       if condition:\n",
    "#          result.append(expr)\n",
    "\n",
    "strings = ['a', 'ab', 'abc', 'abcd', 'abcde', 'fg']\n",
    "list1 = [len(x) for x in strings if len(x)>2]\n",
    "list2 = [x.upper() for x in strings if len(x)>2]\n",
    "\n",
    "for index, (a, b) in enumerate(zip(list1, list2)):\n",
    "    print(f\"{index} : {a}, {b}\")"
   ],
   "metadata": {
    "collapsed": false,
    "ExecuteTime": {
     "end_time": "2023-08-16T21:52:48.351305Z",
     "start_time": "2023-08-16T21:52:48.344652Z"
    }
   }
  },
  {
   "cell_type": "code",
   "execution_count": 24,
   "outputs": [
    {
     "name": "stdout",
     "output_type": "stream",
     "text": [
      "{1, 2, 3, 4, 5}\n"
     ]
    },
    {
     "data": {
      "text/plain": "{1, 2, 3, 4, 5}"
     },
     "execution_count": 24,
     "metadata": {},
     "output_type": "execute_result"
    }
   ],
   "source": [
    "# 집합\n",
    "# 리스트 표기법에서 대괄호 대신 중괄호를 사용한다.\n",
    "# set_comp = {expr for value in collection if condition}\n",
    "\n",
    "unique_lengths = {len(x) for x in strings}\n",
    "print(unique_lengths)\n",
    "\n",
    "set(map(len, strings))"
   ],
   "metadata": {
    "collapsed": false,
    "ExecuteTime": {
     "end_time": "2023-08-16T21:55:12.622513Z",
     "start_time": "2023-08-16T21:55:12.616348Z"
    }
   }
  },
  {
   "cell_type": "code",
   "execution_count": 26,
   "outputs": [
    {
     "data": {
      "text/plain": "{'a': 0, 'ab': 1, 'abc': 2, 'abcd': 3, 'abcde': 4, 'fg': 5}"
     },
     "execution_count": 26,
     "metadata": {},
     "output_type": "execute_result"
    }
   ],
   "source": [
    "# 딕셔너리\n",
    "# dict_comp = {key-expr : value-expr for value in collection if condition}\n",
    "# 문자열의 위치를 담고 있는 딕셔너리 생성\n",
    "\n",
    "loc_mapping = {value : index for index, value in enumerate(strings)}\n",
    "loc_mapping"
   ],
   "metadata": {
    "collapsed": false,
    "ExecuteTime": {
     "end_time": "2023-08-16T21:57:19.488173Z",
     "start_time": "2023-08-16T21:57:19.484297Z"
    }
   }
  },
  {
   "cell_type": "code",
   "execution_count": 32,
   "outputs": [
    {
     "name": "stdout",
     "output_type": "stream",
     "text": [
      "['maria', 'natalia']\n",
      "[1, 2, 3, 4, 5, 6, 7, 8, 9]\n",
      "[1, 2, 3, 4, 5, 6, 7, 8, 9]\n"
     ]
    }
   ],
   "source": [
    "# 중첩된 리스트\n",
    "\n",
    "all_data = [['john', 'emily', 'michael', 'mary', 'steven'],\n",
    "            ['maria', 'juan', 'javier', 'natalia', 'pilar']]\n",
    "\n",
    "result = [name for names in all_data for name in names if name.count('a') >= 2]\n",
    "print(result)\n",
    "\n",
    "some_tuples = [(1, 2, 3), (4, 5, 6), (7, 8, 9)]\n",
    "flattened = [x for tup in some_tuples for x in tup]\n",
    "print(flattened)\n",
    "\n",
    "# 위의 표기법은 아래와 같다.\n",
    "flattened2 = []\n",
    "for tup in some_tuples:\n",
    "    for x in tup:\n",
    "        flattened2.append(x)\n",
    "print(flattened2)"
   ],
   "metadata": {
    "collapsed": false,
    "ExecuteTime": {
     "end_time": "2023-08-16T22:05:01.051163Z",
     "start_time": "2023-08-16T22:05:01.044576Z"
    }
   }
  },
  {
   "cell_type": "markdown",
   "source": [
    "---"
   ],
   "metadata": {
    "collapsed": false
   }
  },
  {
   "cell_type": "markdown",
   "source": [
    "#### 함수\n",
    "* 함수는 def 예약어로 정의한다. 함수에는 선택적으로 return 예약어를 사용하는 코드 블록이 포함된다.\n",
    "* return 문이 몇 개가 되든 상관 없다.\n",
    "* 함수 블록이 끝날 때까지 return 문이 없다면 자동으로 None이 반환된다.\n",
    "* 키워드 인수 : 기본값이나 선택적인 인수 ex) ```function(x, y, z=1.5)```\n",
    "    * 키워드 인수는 선택 사항이지만 함수를 호출할 때 위치 인수는 반드시 지정해야 한다.\n",
    "    * 키워드 인수의 이름을 사용하지 않고 z 인수에 값을 넘길 수는 있지만, 이름을 사용하는 것이 헷갈리지 않고 좋다.\n",
    "    * 키워드 인수는 항상 위치 인수 다음에 와야 한다는 규칙이 있다.\n",
    "        * 키워드 인수의 순서에는 제약이 없으므로 키워드 인수의 이름만 기억하고 있다면 순서를 기억할 필요는 없다."
   ],
   "metadata": {
    "collapsed": false
   }
  },
  {
   "cell_type": "code",
   "execution_count": 39,
   "outputs": [
    {
     "name": "stdout",
     "output_type": "stream",
     "text": [
      "5\n",
      "hello\n",
      "None\n",
      "4.5\n",
      "20\n",
      "0.0125\n"
     ]
    }
   ],
   "source": [
    "def my_function(x, y):\n",
    "    return x+y\n",
    "print(my_function(2, 3))\n",
    "\n",
    "def function_without_return(x):\n",
    "    print(x)\n",
    "result = function_without_return('hello')\n",
    "print(result)\n",
    "\n",
    "def my_function2(x, y, z=1.5):\n",
    "    if z>1:\n",
    "        return z*(x+y)\n",
    "    else:\n",
    "        return z/(x+y)\n",
    "\n",
    "print(my_function2(1, 2))\n",
    "print(my_function2(1, 3, 5))\n",
    "print(my_function2(3, 5, z=0.1))"
   ],
   "metadata": {
    "collapsed": false,
    "ExecuteTime": {
     "end_time": "2023-08-16T22:12:00.901059Z",
     "start_time": "2023-08-16T22:12:00.896465Z"
    }
   }
  },
  {
   "cell_type": "markdown",
   "source": [
    "---"
   ],
   "metadata": {
    "collapsed": false
   }
  },
  {
   "cell_type": "markdown",
   "source": [
    "#### 람다 함수"
   ],
   "metadata": {
    "collapsed": false
   }
  },
  {
   "cell_type": "code",
   "execution_count": 46,
   "outputs": [
    {
     "data": {
      "text/plain": "['aaaa', 'foo', 'bbaa', 'baz', 'card']"
     },
     "execution_count": 46,
     "metadata": {},
     "output_type": "execute_result"
    }
   ],
   "source": [
    "def short_function(x):\n",
    "    return x+2\n",
    "\n",
    "# 위의 함수를 람다 함수로 표현하면 다음과 같다.\n",
    "equiv_anon = lambda x : x+2\n",
    "\n",
    "\n",
    "def apply_to_list(some_list, f):\n",
    "    return [f(x) for x in some_list]\n",
    "\n",
    "ints=[5, 1, 0, 9, 8]\n",
    "apply_to_list(ints, lambda x : x**3)\n",
    "\n",
    "strings = ['foo', 'card', 'baz', 'aaaa', 'bbaa']\n",
    "strings.sort(key=lambda x : len(set(x))) # x를 집합(set)으로 만듦으로써 중복된 문자를 하나로 셀 수 있게 되었다.\n",
    "\n",
    "strings"
   ],
   "metadata": {
    "collapsed": false,
    "ExecuteTime": {
     "end_time": "2023-08-16T22:22:30.111360Z",
     "start_time": "2023-08-16T22:22:30.107241Z"
    }
   }
  },
  {
   "cell_type": "code",
   "execution_count": null,
   "outputs": [],
   "source": [],
   "metadata": {
    "collapsed": false
   }
  }
 ],
 "metadata": {
  "kernelspec": {
   "display_name": "Python 3",
   "language": "python",
   "name": "python3"
  },
  "language_info": {
   "codemirror_mode": {
    "name": "ipython",
    "version": 2
   },
   "file_extension": ".py",
   "mimetype": "text/x-python",
   "name": "python",
   "nbconvert_exporter": "python",
   "pygments_lexer": "ipython2",
   "version": "2.7.6"
  }
 },
 "nbformat": 4,
 "nbformat_minor": 0
}
