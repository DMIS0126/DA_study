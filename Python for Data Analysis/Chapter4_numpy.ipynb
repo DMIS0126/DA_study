{
 "cells": [
  {
   "cell_type": "markdown",
   "source": [
    "## 4장 넘파이 기본 : 배열과 벡터 연산"
   ],
   "metadata": {
    "collapsed": false
   }
  },
  {
   "cell_type": "code",
   "execution_count": 6,
   "outputs": [
    {
     "name": "stdout",
     "output_type": "stream",
     "text": [
      "649 µs ± 7.7 µs per loop (mean ± std. dev. of 7 runs, 1,000 loops each)\n"
     ]
    }
   ],
   "source": [
    "# 넘파이의 속도\n",
    "import numpy as np\n",
    "\n",
    "my_arr = np.arange(1000000)\n",
    "my_list = list(range(1000000))"
   ],
   "metadata": {
    "collapsed": false,
    "ExecuteTime": {
     "end_time": "2023-08-16T22:50:37.455160Z",
     "start_time": "2023-08-16T22:50:32.130821Z"
    }
   }
  },
  {
   "cell_type": "code",
   "execution_count": 7,
   "outputs": [
    {
     "name": "stdout",
     "output_type": "stream",
     "text": [
      "704 µs ± 33.4 µs per loop (mean ± std. dev. of 7 runs, 1,000 loops each)\n",
      "4.44 ms ± 41.2 µs per loop (mean ± std. dev. of 7 runs, 100 loops each)\n"
     ]
    }
   ],
   "source": [
    "%timeit my_arr2 = my_arr*2\n",
    "\n",
    "%timeit my_list2 = my_list*2"
   ],
   "metadata": {
    "collapsed": false,
    "ExecuteTime": {
     "end_time": "2023-08-16T22:51:02.085676Z",
     "start_time": "2023-08-16T22:50:52.731621Z"
    }
   }
  },
  {
   "cell_type": "markdown",
   "source": [
    "---"
   ],
   "metadata": {
    "collapsed": false
   }
  },
  {
   "cell_type": "markdown",
   "source": [
    "### 다차원 배열 객체 ndarray\n",
    "넘파이의 핵심 기능은 ndarray라고 하는 N차원의 배열 객체다.\n",
    "ndarray는 파이썬에서 사용할 수 있는 대규모 데이터셋을 땀을 수 있는 빠르고 유연한 자료구조다.\n",
    "배열을 사용하면 스칼라 원소 간의 연산에 사용하는 문법과 비슷한 방식을 사용해 전체 데이터 블록에 수학적 연산을 수행할 수 있다."
   ],
   "metadata": {
    "collapsed": false
   }
  },
  {
   "cell_type": "code",
   "execution_count": 9,
   "outputs": [
    {
     "name": "stdout",
     "output_type": "stream",
     "text": [
      "[[ 1.5  3.  -1. ]\n",
      " [ 0.  -3.   6.5]]\n"
     ]
    }
   ],
   "source": [
    "import numpy as np\n",
    "data = np.array([[1.5, 3, -1], [0, -3, 6.5]])\n",
    "print(data)"
   ],
   "metadata": {
    "collapsed": false,
    "ExecuteTime": {
     "end_time": "2023-08-16T22:53:13.497972Z",
     "start_time": "2023-08-16T22:53:13.492322Z"
    }
   }
  },
  {
   "cell_type": "code",
   "execution_count": 10,
   "outputs": [
    {
     "data": {
      "text/plain": "array([[ 15.,  30., -10.],\n       [  0., -30.,  65.]])"
     },
     "execution_count": 10,
     "metadata": {},
     "output_type": "execute_result"
    }
   ],
   "source": [
    "data*10"
   ],
   "metadata": {
    "collapsed": false,
    "ExecuteTime": {
     "end_time": "2023-08-16T22:53:17.928838Z",
     "start_time": "2023-08-16T22:53:17.925219Z"
    }
   }
  },
  {
   "cell_type": "code",
   "execution_count": 11,
   "outputs": [
    {
     "data": {
      "text/plain": "array([[ 3.,  6., -2.],\n       [ 0., -6., 13.]])"
     },
     "execution_count": 11,
     "metadata": {},
     "output_type": "execute_result"
    }
   ],
   "source": [
    "data+data"
   ],
   "metadata": {
    "collapsed": false,
    "ExecuteTime": {
     "end_time": "2023-08-16T22:53:22.044008Z",
     "start_time": "2023-08-16T22:53:22.038732Z"
    }
   }
  },
  {
   "cell_type": "markdown",
   "source": [
    "ndarray는 같은 종류의 데이터를 담을 수 있는 포괄적인 다차원 배열이다.\n",
    "즉, ndarray의 모든 원소는 같은 자료형이어야 한다.\n",
    "모든 배열은 각 차원의 크기를 알려주는 ```shape``` 튜플과 배열에 저장된 자료형을 알려주는 ```dtype``` 객체를 갖는다.\n",
    "또한, ```ndim```으로 배열의 차원을 확인할 수 있다.\n",
    "* 차원 : 열의 개수"
   ],
   "metadata": {
    "collapsed": false
   }
  },
  {
   "cell_type": "code",
   "execution_count": 27,
   "outputs": [
    {
     "name": "stdout",
     "output_type": "stream",
     "text": [
      "data의 배열은 (2, 3) 입니다.\n",
      "data의 배열에 저장된 자료형은 float64 입니다.\n",
      "data의 차원은  2 입니다.\n"
     ]
    }
   ],
   "source": [
    "print(f\"data의 배열은\", data.shape, f\"입니다.\")\n",
    "print(f\"data의 배열에 저장된 자료형은\", data.dtype, f\"입니다.\")\n",
    "print(f\"data의 차원은 \", data.ndim, f\"입니다.\")"
   ],
   "metadata": {
    "collapsed": false,
    "ExecuteTime": {
     "end_time": "2023-08-16T23:02:10.409854Z",
     "start_time": "2023-08-16T23:02:10.391098Z"
    }
   }
  },
  {
   "cell_type": "markdown",
   "source": [
    "#### ndarray 생성하기\n",
    "* 배열을 생성하는 가장 쉬운 방법은 array 함수를 이용하는 것이다.\n",
    "* 순차적인 객체(배열도 포함한)를 받아서 넘겨받은 데이터가 들어 있는 새로운 넘파이 배열을 생성한다.\n",
    "* 다음과 같이 파이썬 리스트는 변환하기 좋은 예다.\n",
    "    * 리스트 길이가 동일한 중첩된 순차 데이터는 다차원 배열로 변환된다."
   ],
   "metadata": {
    "collapsed": false
   }
  },
  {
   "cell_type": "code",
   "execution_count": 28,
   "outputs": [
    {
     "name": "stdout",
     "output_type": "stream",
     "text": [
      "[[ 6.   1. ]\n",
      " [-5.2  3. ]\n",
      " [ 7.   0. ]] 2\n",
      "[ 6.   1.  -5.2  3.   7.   0. ] 1\n"
     ]
    }
   ],
   "source": [
    "import numpy as np\n",
    "\n",
    "data1 = [[6, 1], [-5.2, 3], [7, 0]] # 3 X 2 행렬\n",
    "data2 = [6, 1, -5.2, 3, 7, 0] # 6 X 1 행렬\n",
    "\n",
    "arr1 = np.array(data1)\n",
    "arr2 = np.array(data2)\n",
    "print(arr1, arr1.ndim)\n",
    "print(arr2, arr2.ndim)"
   ],
   "metadata": {
    "collapsed": false,
    "ExecuteTime": {
     "end_time": "2023-08-16T23:02:33.523346Z",
     "start_time": "2023-08-16T23:02:33.514626Z"
    }
   }
  },
  {
   "cell_type": "code",
   "execution_count": 38,
   "outputs": [
    {
     "name": "stdout",
     "output_type": "stream",
     "text": [
      "[[[0. 0.]\n",
      "  [0. 0.]\n",
      "  [0. 0.]]\n",
      "\n",
      " [[0. 0.]\n",
      "  [0. 0.]\n",
      "  [0. 0.]]]\n",
      "[[[ 1.5]\n",
      "  [ 3. ]]\n",
      "\n",
      " [[-1. ]\n",
      "  [ 0. ]]\n",
      "\n",
      " [[-3. ]\n",
      "  [ 6.5]]]\n"
     ]
    }
   ],
   "source": [
    "print(np.zeros((2, 3, 2)))\n",
    "\n",
    "print(np.empty((3, 2, 1)))"
   ],
   "metadata": {
    "collapsed": false,
    "ExecuteTime": {
     "end_time": "2023-08-16T23:07:07.955761Z",
     "start_time": "2023-08-16T23:07:07.950864Z"
    }
   }
  },
  {
   "cell_type": "markdown",
   "source": [
    "arange는 파이썬의 range 함수의 배열 버전이다."
   ],
   "metadata": {
    "collapsed": false
   }
  },
  {
   "cell_type": "code",
   "execution_count": 40,
   "outputs": [
    {
     "name": "stdout",
     "output_type": "stream",
     "text": [
      "[ 0  1  2  3  4  5  6  7  8  9 10 11 12 13 14]\n"
     ]
    }
   ],
   "source": [
    "print(np.arange(15))"
   ],
   "metadata": {
    "collapsed": false,
    "ExecuteTime": {
     "end_time": "2023-08-16T23:07:38.457624Z",
     "start_time": "2023-08-16T23:07:38.449975Z"
    }
   }
  },
  {
   "cell_type": "code",
   "execution_count": 2,
   "outputs": [
    {
     "data": {
      "text/plain": "array([[ 6, 23],\n       [-1,  7],\n       [ 8,  9]])"
     },
     "execution_count": 2,
     "metadata": {},
     "output_type": "execute_result"
    }
   ],
   "source": [
    "import numpy as np\n",
    "\n",
    "x = np.array([[1, 2, 3], [4, 5, 6]])\n",
    "y = np.array([[6, 23], [-1, 7], [8, 9]])\n",
    "\n",
    "y"
   ],
   "metadata": {
    "collapsed": false,
    "ExecuteTime": {
     "end_time": "2023-08-17T22:04:11.374714Z",
     "start_time": "2023-08-17T22:04:11.369022Z"
    }
   }
  },
  {
   "cell_type": "code",
   "execution_count": null,
   "outputs": [],
   "source": [],
   "metadata": {
    "collapsed": false
   }
  }
 ],
 "metadata": {
  "kernelspec": {
   "display_name": "Python 3",
   "language": "python",
   "name": "python3"
  },
  "language_info": {
   "codemirror_mode": {
    "name": "ipython",
    "version": 2
   },
   "file_extension": ".py",
   "mimetype": "text/x-python",
   "name": "python",
   "nbconvert_exporter": "python",
   "pygments_lexer": "ipython2",
   "version": "2.7.6"
  }
 },
 "nbformat": 4,
 "nbformat_minor": 0
}
