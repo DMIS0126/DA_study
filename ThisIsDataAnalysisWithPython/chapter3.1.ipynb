{
 "cells": [
  {
   "cell_type": "code",
   "execution_count": 3,
   "id": "5c43fb52",
   "metadata": {
    "ExecuteTime": {
     "end_time": "2022-05-29T22:22:20.820007Z",
     "start_time": "2022-05-29T22:22:19.484621Z"
    }
   },
   "outputs": [],
   "source": [
    "import matplotlib.pyplot as plt\n",
    "import numpy as np\n",
    "import pandas as pd"
   ]
  },
  {
   "cell_type": "code",
   "execution_count": 4,
   "id": "45d654e8",
   "metadata": {
    "ExecuteTime": {
     "end_time": "2022-05-29T22:22:20.845331Z",
     "start_time": "2022-05-29T22:22:20.822248Z"
    }
   },
   "outputs": [
    {
     "name": "stdout",
     "output_type": "stream",
     "text": [
      "   선수명   팀명   승   패  세  홀드  블론  경기  선발     이닝  ...  홈런/9  BABIP  LOB%   ERA  \\\n",
      "0   켈리   SK  16   7  0   0   0  30  30  190.0  ...  0.76  0.342  73.7  3.60   \n",
      "1   소사   LG  11  11  1   0   0  30  29  185.1  ...  0.53  0.319  67.1  3.88   \n",
      "2  양현종  KIA  20   6  0   0   0  31  31  193.1  ...  0.79  0.332  72.1  3.44   \n",
      "3  차우찬   LG  10   7  0   0   0  28  28  175.2  ...  1.02  0.298  75.0  3.43   \n",
      "4  레일리   롯데  13   7  0   0   0  30  30  187.1  ...  0.91  0.323  74.1  3.80   \n",
      "\n",
      "   RA9-WAR   FIP  kFIP   WAR  연봉(2018)  연봉(2017)  \n",
      "0     6.91  3.69  3.44  6.62    140000     85000  \n",
      "1     6.80  3.52  3.41  6.08    120000     50000  \n",
      "2     6.54  3.94  3.82  5.64    230000    150000  \n",
      "3     6.11  4.20  4.03  4.63    100000    100000  \n",
      "4     6.13  4.36  4.31  4.38    111000     85000  \n",
      "\n",
      "[5 rows x 22 columns]\n",
      "   선수명   팀명   경기   타석   타수   안타  홈런   득점   타점  볼넷  ...  도루  BABIP     타율  \\\n",
      "0   최정   SK  130  527  430  136  46   89  113  70  ...   1  0.316  0.316   \n",
      "1  최형우  KIA  142  629  514  176  26   98  120  96  ...   0  0.362  0.342   \n",
      "2  박건우   두산  131  543  483  177  20   91   78  41  ...  20   0.39  0.366   \n",
      "3  나성범   NC  125  561  498  173  24  103   99  48  ...  17  0.413  0.347   \n",
      "4  손아섭   롯데  144  667  576  193  20  113   80  83  ...  25  0.374  0.335   \n",
      "\n",
      "     출루율    장타율    OPS   wOBA   WAR  연봉(2018)  연봉(2017)  \n",
      "0  0.427  0.684  1.111  0.442  7.30    120000    120000  \n",
      "1  0.450  0.576  1.026  0.430  7.20    150000    150000  \n",
      "2  0.424  0.582  1.006  0.424  7.04     37000     19500  \n",
      "3  0.415  0.584  0.999  0.416  5.64     43000     35000  \n",
      "4  0.420  0.514  0.934  0.398  5.60    150000     65000  \n",
      "\n",
      "[5 rows x 21 columns]\n"
     ]
    }
   ],
   "source": [
    "# Data_source : http://www.statiz.co.kr/\n",
    "picher_file_path = '../data/picher_stats_2017.csv'\n",
    "batter_file_path = '../data/batter_stats_2017.csv'\n",
    "\n",
    "picher = pd.read_csv(picher_file_path)\n",
    "batter = pd.read_csv(batter_file_path)\n",
    "\n",
    "print(picher.head(5))\n",
    "print(batter.head(5))"
   ]
  },
  {
   "cell_type": "code",
   "execution_count": 5,
   "id": "4e574e08",
   "metadata": {
    "ExecuteTime": {
     "end_time": "2022-05-29T22:22:20.871341Z",
     "start_time": "2022-05-29T22:22:20.846299Z"
    }
   },
   "outputs": [
    {
     "name": "stdout",
     "output_type": "stream",
     "text": [
      "                승           패           세          홀드          블론          경기  \\\n",
      "count  152.000000  152.000000  152.000000  152.000000  152.000000  152.000000   \n",
      "mean     3.197368    3.157895    1.473684    2.644737    0.888158   28.848684   \n",
      "std      3.863635    3.130929    4.808860    4.515474    1.633869   19.371502   \n",
      "min      0.000000    0.000000    0.000000    0.000000    0.000000    1.000000   \n",
      "25%      0.000000    0.000000    0.000000    0.000000    0.000000   14.000000   \n",
      "50%      2.000000    2.000000    0.000000    0.000000    0.000000   26.000000   \n",
      "75%      5.000000    6.000000    0.000000    3.000000    1.000000   41.000000   \n",
      "max     20.000000   12.000000   37.000000   24.000000    7.000000   75.000000   \n",
      "\n",
      "               선발          이닝        삼진/9        볼넷/9        홈런/9       BABIP  \\\n",
      "count  152.000000  152.000000  152.000000  152.000000  152.000000  152.000000   \n",
      "mean     6.092105   56.953947    7.049605    4.183289    1.209934    0.340507   \n",
      "std      9.750093   50.297632    2.827552    2.362819    1.017072    0.088985   \n",
      "min      0.000000    1.000000    0.000000    0.000000    0.000000    0.000000   \n",
      "25%      0.000000   19.900000    5.492500    2.585000    0.690000    0.303750   \n",
      "50%      0.000000   43.700000    6.900000    3.750000    1.070000    0.333000   \n",
      "75%      7.000000   80.325000    8.212500    5.262500    1.550000    0.364000   \n",
      "max     31.000000  193.100000   22.500000   18.000000    9.000000    0.833000   \n",
      "\n",
      "             LOB%         ERA     RA9-WAR         FIP        kFIP         WAR  \\\n",
      "count  152.000000  152.000000  152.000000  152.000000  152.000000  152.000000   \n",
      "mean    68.523026    6.046053    1.056908    5.506842    5.536776    0.665921   \n",
      "std     11.591590    4.166645    1.843708    1.871047    1.981596    1.322205   \n",
      "min     35.700000    0.000000   -1.210000    0.730000   -0.690000   -1.010000   \n",
      "25%     62.400000    4.082500   -0.092500    4.437500    4.347500   -0.060000   \n",
      "50%     68.250000    5.355000    0.330000    5.210000    5.320000    0.130000   \n",
      "75%     74.525000    7.055000    1.522500    6.392500    6.570000    0.930000   \n",
      "max    100.000000   36.000000    7.280000   18.730000   17.600000    6.620000   \n",
      "\n",
      "            연봉(2018)       연봉(2017)  \n",
      "count     152.000000     152.000000  \n",
      "mean    18932.236842   16505.263158  \n",
      "std     30940.732924   25046.478092  \n",
      "min      2700.000000    2700.000000  \n",
      "25%      4000.000000    3000.000000  \n",
      "50%      7550.000000    6000.000000  \n",
      "75%     18500.000000   15250.000000  \n",
      "max    230000.000000  150000.000000  \n"
     ]
    }
   ],
   "source": [
    "print(picher.describe())"
   ]
  },
  {
   "cell_type": "code",
   "execution_count": 6,
   "id": "0016ccf1",
   "metadata": {
    "ExecuteTime": {
     "end_time": "2022-05-29T22:22:20.894210Z",
     "start_time": "2022-05-29T22:22:20.873385Z"
    }
   },
   "outputs": [
    {
     "name": "stdout",
     "output_type": "stream",
     "text": [
      "               경기          타석          타수          안타          홈런          득점  \\\n",
      "count  191.000000  191.000000  191.000000  191.000000  191.000000  191.000000   \n",
      "mean    77.712042  244.685864  216.712042   62.256545    6.356021   33.277487   \n",
      "std     45.487370  196.821388  173.160789   54.830765    8.578366   29.767369   \n",
      "min      1.000000    1.000000    1.000000    0.000000    0.000000    0.000000   \n",
      "25%     32.500000   51.000000   46.500000   10.500000    0.000000    6.500000   \n",
      "50%     83.000000  213.000000  195.000000   54.000000    3.000000   28.000000   \n",
      "75%    119.500000  406.500000  356.000000  103.000000    9.000000   51.000000   \n",
      "max    144.000000  667.000000  576.000000  193.000000   46.000000  118.000000   \n",
      "\n",
      "               타점          볼넷          삼진          도루          타율         출루율  \\\n",
      "count  191.000000  191.000000  191.000000  191.000000  191.000000  191.000000   \n",
      "mean    30.816754   19.335079   42.146597    3.670157    0.249351    0.306571   \n",
      "std     31.587188   19.521723   33.086799    5.959610    0.102981    0.113119   \n",
      "min      0.000000    0.000000    0.000000    0.000000    0.000000    0.000000   \n",
      "25%      4.000000    3.000000   12.500000    0.000000    0.221500    0.282000   \n",
      "50%     18.000000   14.000000   38.000000    1.000000    0.267000    0.331000   \n",
      "75%     47.000000   29.000000   66.500000    4.000000    0.301500    0.365000   \n",
      "max    124.000000   96.000000  138.000000   40.000000    1.000000    1.000000   \n",
      "\n",
      "              장타율         OPS        wOBA         WAR       연봉(2018)  \\\n",
      "count  191.000000  191.000000  191.000000  191.000000     191.000000   \n",
      "mean     0.365754    0.672325    0.293592    0.788743   20625.654450   \n",
      "std      0.147605    0.253165    0.107522    1.687999   31978.855209   \n",
      "min      0.000000    0.000000    0.000000   -1.320000    2700.000000   \n",
      "25%      0.306500    0.595500    0.266000   -0.170000    4200.000000   \n",
      "50%      0.385000    0.709000    0.316000    0.060000    7500.000000   \n",
      "75%      0.450500    0.810000    0.348000    1.295000   25000.000000   \n",
      "max      1.000000    2.000000    0.898000    7.300000  250000.000000   \n",
      "\n",
      "            연봉(2017)  \n",
      "count     191.000000  \n",
      "mean    19111.518325  \n",
      "std     30908.169135  \n",
      "min         0.000000  \n",
      "25%      3100.000000  \n",
      "50%      6000.000000  \n",
      "75%     21250.000000  \n",
      "max    250000.000000  \n"
     ]
    }
   ],
   "source": [
    "print(batter.describe())"
   ]
  },
  {
   "cell_type": "code",
   "execution_count": 7,
   "id": "a8714ee5",
   "metadata": {
    "ExecuteTime": {
     "end_time": "2022-05-29T22:22:20.897773Z",
     "start_time": "2022-05-29T22:22:20.895227Z"
    }
   },
   "outputs": [
    {
     "name": "stdout",
     "output_type": "stream",
     "text": [
      "Index(['선수명', '팀명', '승', '패', '세', '홀드', '블론', '경기', '선발', '이닝', '삼진/9',\n",
      "       '볼넷/9', '홈런/9', 'BABIP', 'LOB%', 'ERA', 'RA9-WAR', 'FIP', 'kFIP', 'WAR',\n",
      "       '연봉(2018)', '연봉(2017)'],\n",
      "      dtype='object')\n",
      "(152, 22)\n",
      "Index(['선수명', '팀명', '경기', '타석', '타수', '안타', '홈런', '득점', '타점', '볼넷', '삼진', '도루',\n",
      "       'BABIP', '타율', '출루율', '장타율', 'OPS', 'wOBA', 'WAR', '연봉(2018)',\n",
      "       '연봉(2017)'],\n",
      "      dtype='object')\n",
      "(191, 21)\n"
     ]
    }
   ],
   "source": [
    "# 두 df의 대략적인 정보 파악하기\n",
    "print(picher.columns)\n",
    "print(picher.shape)\n",
    "print(batter.columns)\n",
    "print(batter.shape)"
   ]
  },
  {
   "cell_type": "code",
   "execution_count": 8,
   "id": "0d19cb00",
   "metadata": {
    "ExecuteTime": {
     "end_time": "2022-05-29T22:22:20.903477Z",
     "start_time": "2022-05-29T22:22:20.898762Z"
    }
   },
   "outputs": [
    {
     "name": "stdout",
     "output_type": "stream",
     "text": [
      "count       152.000000\n",
      "mean      16505.263158\n",
      "std       25046.478092\n",
      "min        2700.000000\n",
      "25%        3000.000000\n",
      "50%        6000.000000\n",
      "75%       15250.000000\n",
      "max      150000.000000\n",
      "Name: 연봉(2017), dtype: float64\n",
      "count       152.000000\n",
      "mean      18932.236842\n",
      "std       30940.732924\n",
      "min        2700.000000\n",
      "25%        4000.000000\n",
      "50%        7550.000000\n",
      "75%       18500.000000\n",
      "max      230000.000000\n",
      "Name: 연봉(2018), dtype: float64\n"
     ]
    }
   ],
   "source": [
    "# 연봉에 대한 정보만 추리기\n",
    "print(picher['연봉(2017)'].describe())\n",
    "print(picher['연봉(2018)'].describe())"
   ]
  },
  {
   "cell_type": "code",
   "execution_count": 9,
   "id": "b2a04489",
   "metadata": {
    "ExecuteTime": {
     "end_time": "2022-05-29T22:22:21.114884Z",
     "start_time": "2022-05-29T22:22:20.904407Z"
    }
   },
   "outputs": [
    {
     "name": "stdout",
     "output_type": "stream",
     "text": [
      "AxesSubplot(0.125,0.125;0.775x0.755)\n"
     ]
    },
    {
     "data": {
      "image/png": "[encoded data removed]",
      "text/plain": [
       "<Figure size 432x288 with 1 Axes>"
      ]
     },
     "metadata": {
      "needs_background": "light"
     },
     "output_type": "display_data"
    }
   ],
   "source": [
    "# 연도별 연봉정보 히스토그램 그리기\n",
    "print(picher['연봉(2017)'].hist(bins = 100))"
   ]
  },
  {
   "cell_type": "code",
   "execution_count": 10,
   "id": "4ad5f6a4",
   "metadata": {
    "ExecuteTime": {
     "end_time": "2022-05-29T22:22:21.244817Z",
     "start_time": "2022-05-29T22:22:21.116504Z"
    }
   },
   "outputs": [
    {
     "name": "stdout",
     "output_type": "stream",
     "text": [
      "AxesSubplot(0.125,0.125;0.775x0.755)\n"
     ]
    },
    {
     "data": {
      "image/png": "[encoded data removed]",
      "text/plain": [
       "<Figure size 432x288 with 1 Axes>"
      ]
     },
     "metadata": {
      "needs_background": "light"
     },
     "output_type": "display_data"
    }
   ],
   "source": [
    "print(picher['연봉(2018)'].hist(bins = 100))"
   ]
  },
  {
   "cell_type": "code",
   "execution_count": 11,
   "id": "f25b0e30",
   "metadata": {
    "ExecuteTime": {
     "end_time": "2022-05-29T22:22:21.305125Z",
     "start_time": "2022-05-29T22:22:21.245731Z"
    }
   },
   "outputs": [
    {
     "data": {
      "text/plain": [
       "<AxesSubplot:>"
      ]
     },
     "execution_count": 11,
     "metadata": {},
     "output_type": "execute_result"
    },
    {
     "name": "stderr",
     "output_type": "stream",
     "text": [
      "/Users/dmis/opt/anaconda3/lib/python3.9/site-packages/matplotlib/backends/backend_agg.py:240: RuntimeWarning: Glyph 50672 missing from current font.\n",
      "  font.set_text(s, 0.0, flags=flags)\n",
      "/Users/dmis/opt/anaconda3/lib/python3.9/site-packages/matplotlib/backends/backend_agg.py:240: RuntimeWarning: Glyph 48393 missing from current font.\n",
      "  font.set_text(s, 0.0, flags=flags)\n",
      "/Users/dmis/opt/anaconda3/lib/python3.9/site-packages/matplotlib/backends/backend_agg.py:203: RuntimeWarning: Glyph 50672 missing from current font.\n",
      "  font.set_text(s, 0, flags=flags)\n",
      "/Users/dmis/opt/anaconda3/lib/python3.9/site-packages/matplotlib/backends/backend_agg.py:203: RuntimeWarning: Glyph 48393 missing from current font.\n",
      "  font.set_text(s, 0, flags=flags)\n"
     ]
    },
    {
     "data": {
      "image/png": "[encoded data removed]",
      "text/plain": [
       "<Figure size 432x288 with 1 Axes>"
      ]
     },
     "metadata": {
      "needs_background": "light"
     },
     "output_type": "display_data"
    }
   ],
   "source": [
    "# 상자그림 그리기\n",
    "picher.boxplot(column = ['연봉(2017)'])"
   ]
  },
  {
   "cell_type": "code",
   "execution_count": 12,
   "id": "24de7be4",
   "metadata": {
    "ExecuteTime": {
     "end_time": "2022-05-29T22:22:21.359836Z",
     "start_time": "2022-05-29T22:22:21.307608Z"
    }
   },
   "outputs": [
    {
     "data": {
      "text/plain": [
       "<AxesSubplot:>"
      ]
     },
     "execution_count": 12,
     "metadata": {},
     "output_type": "execute_result"
    },
    {
     "name": "stderr",
     "output_type": "stream",
     "text": [
      "/Users/dmis/opt/anaconda3/lib/python3.9/site-packages/matplotlib/backends/backend_agg.py:240: RuntimeWarning: Glyph 50672 missing from current font.\n",
      "  font.set_text(s, 0.0, flags=flags)\n",
      "/Users/dmis/opt/anaconda3/lib/python3.9/site-packages/matplotlib/backends/backend_agg.py:240: RuntimeWarning: Glyph 48393 missing from current font.\n",
      "  font.set_text(s, 0.0, flags=flags)\n",
      "/Users/dmis/opt/anaconda3/lib/python3.9/site-packages/matplotlib/backends/backend_agg.py:203: RuntimeWarning: Glyph 50672 missing from current font.\n",
      "  font.set_text(s, 0, flags=flags)\n",
      "/Users/dmis/opt/anaconda3/lib/python3.9/site-packages/matplotlib/backends/backend_agg.py:203: RuntimeWarning: Glyph 48393 missing from current font.\n",
      "  font.set_text(s, 0, flags=flags)\n"
     ]
    },
    {
     "data": {
      "image/png": "[encoded data removed]",
      "text/plain": [
       "<Figure size 432x288 with 1 Axes>"
      ]
     },
     "metadata": {
      "needs_background": "light"
     },
     "output_type": "display_data"
    }
   ],
   "source": [
    "picher.boxplot(column = ['연봉(2018)'])"
   ]
  },
  {
   "cell_type": "code",
   "execution_count": 31,
   "id": "bf5f764b",
   "metadata": {
    "ExecuteTime": {
     "end_time": "2022-05-29T22:30:01.953315Z",
     "start_time": "2022-05-29T22:30:00.285167Z"
    },
    "scrolled": false
   },
   "outputs": [
    {
     "name": "stderr",
     "output_type": "stream",
     "text": [
      "/Users/dmis/opt/anaconda3/lib/python3.9/site-packages/matplotlib/backends/backend_agg.py:240: RuntimeWarning: Glyph 49849 missing from current font.\n",
      "  font.set_text(s, 0.0, flags=flags)\n",
      "/Users/dmis/opt/anaconda3/lib/python3.9/site-packages/matplotlib/backends/backend_agg.py:240: RuntimeWarning: Glyph 54056 missing from current font.\n",
      "  font.set_text(s, 0.0, flags=flags)\n",
      "/Users/dmis/opt/anaconda3/lib/python3.9/site-packages/matplotlib/backends/backend_agg.py:240: RuntimeWarning: Glyph 49464 missing from current font.\n",
      "  font.set_text(s, 0.0, flags=flags)\n",
      "/Users/dmis/opt/anaconda3/lib/python3.9/site-packages/matplotlib/backends/backend_agg.py:240: RuntimeWarning: Glyph 54848 missing from current font.\n",
      "  font.set_text(s, 0.0, flags=flags)\n",
      "/Users/dmis/opt/anaconda3/lib/python3.9/site-packages/matplotlib/backends/backend_agg.py:240: RuntimeWarning: Glyph 46300 missing from current font.\n",
      "  font.set_text(s, 0.0, flags=flags)\n",
      "/Users/dmis/opt/anaconda3/lib/python3.9/site-packages/matplotlib/backends/backend_agg.py:240: RuntimeWarning: Glyph 48660 missing from current font.\n",
      "  font.set_text(s, 0.0, flags=flags)\n",
      "/Users/dmis/opt/anaconda3/lib/python3.9/site-packages/matplotlib/backends/backend_agg.py:240: RuntimeWarning: Glyph 47200 missing from current font.\n",
      "  font.set_text(s, 0.0, flags=flags)\n",
      "/Users/dmis/opt/anaconda3/lib/python3.9/site-packages/matplotlib/backends/backend_agg.py:240: RuntimeWarning: Glyph 44221 missing from current font.\n",
      "  font.set_text(s, 0.0, flags=flags)\n",
      "/Users/dmis/opt/anaconda3/lib/python3.9/site-packages/matplotlib/backends/backend_agg.py:240: RuntimeWarning: Glyph 44592 missing from current font.\n",
      "  font.set_text(s, 0.0, flags=flags)\n",
      "/Users/dmis/opt/anaconda3/lib/python3.9/site-packages/matplotlib/backends/backend_agg.py:240: RuntimeWarning: Glyph 49440 missing from current font.\n",
      "  font.set_text(s, 0.0, flags=flags)\n",
      "/Users/dmis/opt/anaconda3/lib/python3.9/site-packages/matplotlib/backends/backend_agg.py:240: RuntimeWarning: Glyph 48156 missing from current font.\n",
      "  font.set_text(s, 0.0, flags=flags)\n",
      "/Users/dmis/opt/anaconda3/lib/python3.9/site-packages/matplotlib/backends/backend_agg.py:240: RuntimeWarning: Glyph 51060 missing from current font.\n",
      "  font.set_text(s, 0.0, flags=flags)\n",
      "/Users/dmis/opt/anaconda3/lib/python3.9/site-packages/matplotlib/backends/backend_agg.py:240: RuntimeWarning: Glyph 45789 missing from current font.\n",
      "  font.set_text(s, 0.0, flags=flags)\n",
      "/Users/dmis/opt/anaconda3/lib/python3.9/site-packages/matplotlib/backends/backend_agg.py:240: RuntimeWarning: Glyph 49340 missing from current font.\n",
      "  font.set_text(s, 0.0, flags=flags)\n",
      "/Users/dmis/opt/anaconda3/lib/python3.9/site-packages/matplotlib/backends/backend_agg.py:240: RuntimeWarning: Glyph 51652 missing from current font.\n",
      "  font.set_text(s, 0.0, flags=flags)\n",
      "/Users/dmis/opt/anaconda3/lib/python3.9/site-packages/matplotlib/backends/backend_agg.py:240: RuntimeWarning: Glyph 48380 missing from current font.\n",
      "  font.set_text(s, 0.0, flags=flags)\n",
      "/Users/dmis/opt/anaconda3/lib/python3.9/site-packages/matplotlib/backends/backend_agg.py:240: RuntimeWarning: Glyph 45367 missing from current font.\n",
      "  font.set_text(s, 0.0, flags=flags)\n",
      "/Users/dmis/opt/anaconda3/lib/python3.9/site-packages/matplotlib/backends/backend_agg.py:240: RuntimeWarning: Glyph 54856 missing from current font.\n",
      "  font.set_text(s, 0.0, flags=flags)\n",
      "/Users/dmis/opt/anaconda3/lib/python3.9/site-packages/matplotlib/backends/backend_agg.py:240: RuntimeWarning: Glyph 47088 missing from current font.\n",
      "  font.set_text(s, 0.0, flags=flags)\n",
      "/Users/dmis/opt/anaconda3/lib/python3.9/site-packages/matplotlib/backends/backend_agg.py:240: RuntimeWarning: Glyph 50672 missing from current font.\n",
      "  font.set_text(s, 0.0, flags=flags)\n",
      "/Users/dmis/opt/anaconda3/lib/python3.9/site-packages/matplotlib/backends/backend_agg.py:240: RuntimeWarning: Glyph 48393 missing from current font.\n",
      "  font.set_text(s, 0.0, flags=flags)\n",
      "/Users/dmis/opt/anaconda3/lib/python3.9/site-packages/matplotlib/backends/backend_agg.py:203: RuntimeWarning: Glyph 49849 missing from current font.\n",
      "  font.set_text(s, 0, flags=flags)\n",
      "/Users/dmis/opt/anaconda3/lib/python3.9/site-packages/matplotlib/backends/backend_agg.py:203: RuntimeWarning: Glyph 54056 missing from current font.\n",
      "  font.set_text(s, 0, flags=flags)\n",
      "/Users/dmis/opt/anaconda3/lib/python3.9/site-packages/matplotlib/backends/backend_agg.py:203: RuntimeWarning: Glyph 49464 missing from current font.\n",
      "  font.set_text(s, 0, flags=flags)\n",
      "/Users/dmis/opt/anaconda3/lib/python3.9/site-packages/matplotlib/backends/backend_agg.py:203: RuntimeWarning: Glyph 54848 missing from current font.\n",
      "  font.set_text(s, 0, flags=flags)\n",
      "/Users/dmis/opt/anaconda3/lib/python3.9/site-packages/matplotlib/backends/backend_agg.py:203: RuntimeWarning: Glyph 46300 missing from current font.\n",
      "  font.set_text(s, 0, flags=flags)\n",
      "/Users/dmis/opt/anaconda3/lib/python3.9/site-packages/matplotlib/backends/backend_agg.py:203: RuntimeWarning: Glyph 48660 missing from current font.\n",
      "  font.set_text(s, 0, flags=flags)\n",
      "/Users/dmis/opt/anaconda3/lib/python3.9/site-packages/matplotlib/backends/backend_agg.py:203: RuntimeWarning: Glyph 47200 missing from current font.\n",
      "  font.set_text(s, 0, flags=flags)\n",
      "/Users/dmis/opt/anaconda3/lib/python3.9/site-packages/matplotlib/backends/backend_agg.py:203: RuntimeWarning: Glyph 44221 missing from current font.\n",
      "  font.set_text(s, 0, flags=flags)\n",
      "/Users/dmis/opt/anaconda3/lib/python3.9/site-packages/matplotlib/backends/backend_agg.py:203: RuntimeWarning: Glyph 44592 missing from current font.\n",
      "  font.set_text(s, 0, flags=flags)\n",
      "/Users/dmis/opt/anaconda3/lib/python3.9/site-packages/matplotlib/backends/backend_agg.py:203: RuntimeWarning: Glyph 49440 missing from current font.\n",
      "  font.set_text(s, 0, flags=flags)\n",
      "/Users/dmis/opt/anaconda3/lib/python3.9/site-packages/matplotlib/backends/backend_agg.py:203: RuntimeWarning: Glyph 48156 missing from current font.\n",
      "  font.set_text(s, 0, flags=flags)\n",
      "/Users/dmis/opt/anaconda3/lib/python3.9/site-packages/matplotlib/backends/backend_agg.py:203: RuntimeWarning: Glyph 51060 missing from current font.\n",
      "  font.set_text(s, 0, flags=flags)\n",
      "/Users/dmis/opt/anaconda3/lib/python3.9/site-packages/matplotlib/backends/backend_agg.py:203: RuntimeWarning: Glyph 45789 missing from current font.\n",
      "  font.set_text(s, 0, flags=flags)\n",
      "/Users/dmis/opt/anaconda3/lib/python3.9/site-packages/matplotlib/backends/backend_agg.py:203: RuntimeWarning: Glyph 49340 missing from current font.\n",
      "  font.set_text(s, 0, flags=flags)\n",
      "/Users/dmis/opt/anaconda3/lib/python3.9/site-packages/matplotlib/backends/backend_agg.py:203: RuntimeWarning: Glyph 51652 missing from current font.\n",
      "  font.set_text(s, 0, flags=flags)\n",
      "/Users/dmis/opt/anaconda3/lib/python3.9/site-packages/matplotlib/backends/backend_agg.py:203: RuntimeWarning: Glyph 48380 missing from current font.\n",
      "  font.set_text(s, 0, flags=flags)\n",
      "/Users/dmis/opt/anaconda3/lib/python3.9/site-packages/matplotlib/backends/backend_agg.py:203: RuntimeWarning: Glyph 45367 missing from current font.\n",
      "  font.set_text(s, 0, flags=flags)\n",
      "/Users/dmis/opt/anaconda3/lib/python3.9/site-packages/matplotlib/backends/backend_agg.py:203: RuntimeWarning: Glyph 54856 missing from current font.\n",
      "  font.set_text(s, 0, flags=flags)\n",
      "/Users/dmis/opt/anaconda3/lib/python3.9/site-packages/matplotlib/backends/backend_agg.py:203: RuntimeWarning: Glyph 47088 missing from current font.\n",
      "  font.set_text(s, 0, flags=flags)\n",
      "/Users/dmis/opt/anaconda3/lib/python3.9/site-packages/matplotlib/backends/backend_agg.py:203: RuntimeWarning: Glyph 50672 missing from current font.\n",
      "  font.set_text(s, 0, flags=flags)\n",
      "/Users/dmis/opt/anaconda3/lib/python3.9/site-packages/matplotlib/backends/backend_agg.py:203: RuntimeWarning: Glyph 48393 missing from current font.\n",
      "  font.set_text(s, 0, flags=flags)\n"
     ]
    },
    {
     "data": {
      "image/png": "[encoded data removed]",
      "text/plain": [
       "<Figure size 1440x1152 with 20 Axes>"
      ]
     },
     "metadata": {
      "needs_background": "light"
     },
     "output_type": "display_data"
    }
   ],
   "source": [
    "# 회귀 분석에 사용할 피쳐 알아보기\n",
    "picher_features_df = picher[['승', '패', '세', '홀드', '블론', '경기', '선발', \n",
    "                            '이닝', '삼진/9', '볼넷/9', '홈런/9', 'BABIP', 'LOB%',\n",
    "                            'ERA', 'RA9-WAR', 'FIP', 'kFIP', 'WAR', '연봉(2018)', '연봉(2017)']]\n",
    "\n",
    "def plot_hist_each_column(df):\n",
    "    plt.rcParams['figure.figsize'] = [20, 16]\n",
    "    fig = plt.figure(1)\n",
    "    for i in range(len(df.columns)):\n",
    "        ax = fig.add_subplot(5, 5, i+1)\n",
    "        plt.hist(df[df.columns[i]], bins = 50)\n",
    "        ax.set_title(df.columns[i])\n",
    "    plt.show()\n",
    "    \n",
    "plot_hist_each_column(picher_features_df)"
   ]
  },
  {
   "cell_type": "code",
   "execution_count": 34,
   "id": "b6c2bb60",
   "metadata": {
    "ExecuteTime": {
     "end_time": "2022-05-29T22:39:34.806160Z",
     "start_time": "2022-05-29T22:39:34.755284Z"
    }
   },
   "outputs": [
    {
     "data": {
      "text/html": [
       "<div>\n",
       "<style scoped>\n",
       "    .dataframe tbody tr th:only-of-type {\n",
       "        vertical-align: middle;\n",
       "    }\n",
       "\n",
       "    .dataframe tbody tr th {\n",
       "        vertical-align: top;\n",
       "    }\n",
       "\n",
       "    .dataframe thead th {\n",
       "        text-align: right;\n",
       "    }\n",
       "</style>\n",
       "<table border=\"1\" class=\"dataframe\">\n",
       "  <thead>\n",
       "    <tr style=\"text-align: right;\">\n",
       "      <th></th>\n",
       "      <th>선수명</th>\n",
       "      <th>팀명</th>\n",
       "      <th>승</th>\n",
       "      <th>패</th>\n",
       "      <th>세</th>\n",
       "      <th>홀드</th>\n",
       "      <th>블론</th>\n",
       "      <th>경기</th>\n",
       "      <th>선발</th>\n",
       "      <th>이닝</th>\n",
       "      <th>...</th>\n",
       "      <th>홈런/9</th>\n",
       "      <th>BABIP</th>\n",
       "      <th>LOB%</th>\n",
       "      <th>ERA</th>\n",
       "      <th>RA9-WAR</th>\n",
       "      <th>FIP</th>\n",
       "      <th>kFIP</th>\n",
       "      <th>WAR</th>\n",
       "      <th>y</th>\n",
       "      <th>연봉(2017)</th>\n",
       "    </tr>\n",
       "  </thead>\n",
       "  <tbody>\n",
       "    <tr>\n",
       "      <th>0</th>\n",
       "      <td>켈리</td>\n",
       "      <td>SK</td>\n",
       "      <td>3.313623</td>\n",
       "      <td>1.227145</td>\n",
       "      <td>-0.306452</td>\n",
       "      <td>-0.585705</td>\n",
       "      <td>-0.543592</td>\n",
       "      <td>0.059433</td>\n",
       "      <td>2.452068</td>\n",
       "      <td>2.645175</td>\n",
       "      <td>...</td>\n",
       "      <td>-0.442382</td>\n",
       "      <td>0.016783</td>\n",
       "      <td>0.446615</td>\n",
       "      <td>-0.587056</td>\n",
       "      <td>3.174630</td>\n",
       "      <td>-0.971030</td>\n",
       "      <td>-1.058125</td>\n",
       "      <td>4.503142</td>\n",
       "      <td>3.912893</td>\n",
       "      <td>2.734705</td>\n",
       "    </tr>\n",
       "    <tr>\n",
       "      <th>1</th>\n",
       "      <td>소사</td>\n",
       "      <td>LG</td>\n",
       "      <td>2.019505</td>\n",
       "      <td>2.504721</td>\n",
       "      <td>-0.098502</td>\n",
       "      <td>-0.585705</td>\n",
       "      <td>-0.543592</td>\n",
       "      <td>0.059433</td>\n",
       "      <td>2.349505</td>\n",
       "      <td>2.547755</td>\n",
       "      <td>...</td>\n",
       "      <td>-0.668521</td>\n",
       "      <td>-0.241686</td>\n",
       "      <td>-0.122764</td>\n",
       "      <td>-0.519855</td>\n",
       "      <td>3.114968</td>\n",
       "      <td>-1.061888</td>\n",
       "      <td>-1.073265</td>\n",
       "      <td>4.094734</td>\n",
       "      <td>3.266495</td>\n",
       "      <td>1.337303</td>\n",
       "    </tr>\n",
       "    <tr>\n",
       "      <th>2</th>\n",
       "      <td>양현종</td>\n",
       "      <td>KIA</td>\n",
       "      <td>4.348918</td>\n",
       "      <td>0.907751</td>\n",
       "      <td>-0.306452</td>\n",
       "      <td>-0.585705</td>\n",
       "      <td>-0.543592</td>\n",
       "      <td>0.111056</td>\n",
       "      <td>2.554632</td>\n",
       "      <td>2.706808</td>\n",
       "      <td>...</td>\n",
       "      <td>-0.412886</td>\n",
       "      <td>-0.095595</td>\n",
       "      <td>0.308584</td>\n",
       "      <td>-0.625456</td>\n",
       "      <td>2.973948</td>\n",
       "      <td>-0.837415</td>\n",
       "      <td>-0.866361</td>\n",
       "      <td>3.761956</td>\n",
       "      <td>6.821679</td>\n",
       "      <td>5.329881</td>\n",
       "    </tr>\n",
       "    <tr>\n",
       "      <th>3</th>\n",
       "      <td>차우찬</td>\n",
       "      <td>LG</td>\n",
       "      <td>1.760682</td>\n",
       "      <td>1.227145</td>\n",
       "      <td>-0.306452</td>\n",
       "      <td>-0.585705</td>\n",
       "      <td>-0.543592</td>\n",
       "      <td>-0.043811</td>\n",
       "      <td>2.246942</td>\n",
       "      <td>2.350927</td>\n",
       "      <td>...</td>\n",
       "      <td>-0.186746</td>\n",
       "      <td>-0.477680</td>\n",
       "      <td>0.558765</td>\n",
       "      <td>-0.627856</td>\n",
       "      <td>2.740722</td>\n",
       "      <td>-0.698455</td>\n",
       "      <td>-0.760385</td>\n",
       "      <td>2.998081</td>\n",
       "      <td>2.620098</td>\n",
       "      <td>3.333592</td>\n",
       "    </tr>\n",
       "    <tr>\n",
       "      <th>4</th>\n",
       "      <td>레일리</td>\n",
       "      <td>롯데</td>\n",
       "      <td>2.537153</td>\n",
       "      <td>1.227145</td>\n",
       "      <td>-0.306452</td>\n",
       "      <td>-0.585705</td>\n",
       "      <td>-0.543592</td>\n",
       "      <td>0.059433</td>\n",
       "      <td>2.452068</td>\n",
       "      <td>2.587518</td>\n",
       "      <td>...</td>\n",
       "      <td>-0.294900</td>\n",
       "      <td>-0.196735</td>\n",
       "      <td>0.481122</td>\n",
       "      <td>-0.539055</td>\n",
       "      <td>2.751570</td>\n",
       "      <td>-0.612941</td>\n",
       "      <td>-0.619085</td>\n",
       "      <td>2.809003</td>\n",
       "      <td>2.975617</td>\n",
       "      <td>2.734705</td>\n",
       "    </tr>\n",
       "  </tbody>\n",
       "</table>\n",
       "<p>5 rows × 22 columns</p>\n",
       "</div>"
      ],
      "text/plain": [
       "   선수명   팀명         승         패         세        홀드        블론        경기  \\\n",
       "0   켈리   SK  3.313623  1.227145 -0.306452 -0.585705 -0.543592  0.059433   \n",
       "1   소사   LG  2.019505  2.504721 -0.098502 -0.585705 -0.543592  0.059433   \n",
       "2  양현종  KIA  4.348918  0.907751 -0.306452 -0.585705 -0.543592  0.111056   \n",
       "3  차우찬   LG  1.760682  1.227145 -0.306452 -0.585705 -0.543592 -0.043811   \n",
       "4  레일리   롯데  2.537153  1.227145 -0.306452 -0.585705 -0.543592  0.059433   \n",
       "\n",
       "         선발        이닝  ...      홈런/9     BABIP      LOB%       ERA   RA9-WAR  \\\n",
       "0  2.452068  2.645175  ... -0.442382  0.016783  0.446615 -0.587056  3.174630   \n",
       "1  2.349505  2.547755  ... -0.668521 -0.241686 -0.122764 -0.519855  3.114968   \n",
       "2  2.554632  2.706808  ... -0.412886 -0.095595  0.308584 -0.625456  2.973948   \n",
       "3  2.246942  2.350927  ... -0.186746 -0.477680  0.558765 -0.627856  2.740722   \n",
       "4  2.452068  2.587518  ... -0.294900 -0.196735  0.481122 -0.539055  2.751570   \n",
       "\n",
       "        FIP      kFIP       WAR         y  연봉(2017)  \n",
       "0 -0.971030 -1.058125  4.503142  3.912893  2.734705  \n",
       "1 -1.061888 -1.073265  4.094734  3.266495  1.337303  \n",
       "2 -0.837415 -0.866361  3.761956  6.821679  5.329881  \n",
       "3 -0.698455 -0.760385  2.998081  2.620098  3.333592  \n",
       "4 -0.612941 -0.619085  2.809003  2.975617  2.734705  \n",
       "\n",
       "[5 rows x 22 columns]"
      ]
     },
     "execution_count": 34,
     "metadata": {},
     "output_type": "execute_result"
    }
   ],
   "source": [
    "# 피쳐 스케일링(정규화)) 해주기\n",
    "pd.options.mode.chained_assignment = None\n",
    "\n",
    "def standartd_scaling(df, scale_columns):\n",
    "    for col in scale_columns:\n",
    "        series_mean = df[col].mean()\n",
    "        series_std = df[col].std()\n",
    "        df[col] = df[col].apply(lambda x: (x-series_mean)/series_std)\n",
    "    return df\n",
    "\n",
    "scale_columns = ['승', '패', '세', '홀드', '블론', '경기', '선발', \n",
    "                            '이닝', '삼진/9', '볼넷/9', '홈런/9', 'BABIP', 'LOB%',\n",
    "                            'ERA', 'RA9-WAR', 'FIP', 'kFIP', 'WAR', '연봉(2018)', '연봉(2017)']\n",
    "picher_df = standartd_scaling(picher, scale_columns)\n",
    "\n",
    "picher_df = picher_df.rename(columns={'연봉(2018)':'y'})\n",
    "picher_df.head(5)"
   ]
  },
  {
   "cell_type": "code",
   "execution_count": 35,
   "id": "0047e20a",
   "metadata": {
    "ExecuteTime": {
     "end_time": "2022-05-29T22:41:23.019768Z",
     "start_time": "2022-05-29T22:41:22.995001Z"
    }
   },
   "outputs": [
    {
     "data": {
      "text/html": [
       "<div>\n",
       "<style scoped>\n",
       "    .dataframe tbody tr th:only-of-type {\n",
       "        vertical-align: middle;\n",
       "    }\n",
       "\n",
       "    .dataframe tbody tr th {\n",
       "        vertical-align: top;\n",
       "    }\n",
       "\n",
       "    .dataframe thead th {\n",
       "        text-align: right;\n",
       "    }\n",
       "</style>\n",
       "<table border=\"1\" class=\"dataframe\">\n",
       "  <thead>\n",
       "    <tr style=\"text-align: right;\">\n",
       "      <th></th>\n",
       "      <th>KIA</th>\n",
       "      <th>KT</th>\n",
       "      <th>LG</th>\n",
       "      <th>NC</th>\n",
       "      <th>SK</th>\n",
       "      <th>두산</th>\n",
       "      <th>롯데</th>\n",
       "      <th>삼성</th>\n",
       "      <th>한화</th>\n",
       "    </tr>\n",
       "  </thead>\n",
       "  <tbody>\n",
       "    <tr>\n",
       "      <th>0</th>\n",
       "      <td>0</td>\n",
       "      <td>0</td>\n",
       "      <td>0</td>\n",
       "      <td>0</td>\n",
       "      <td>1</td>\n",
       "      <td>0</td>\n",
       "      <td>0</td>\n",
       "      <td>0</td>\n",
       "      <td>0</td>\n",
       "    </tr>\n",
       "    <tr>\n",
       "      <th>1</th>\n",
       "      <td>0</td>\n",
       "      <td>0</td>\n",
       "      <td>1</td>\n",
       "      <td>0</td>\n",
       "      <td>0</td>\n",
       "      <td>0</td>\n",
       "      <td>0</td>\n",
       "      <td>0</td>\n",
       "      <td>0</td>\n",
       "    </tr>\n",
       "    <tr>\n",
       "      <th>2</th>\n",
       "      <td>1</td>\n",
       "      <td>0</td>\n",
       "      <td>0</td>\n",
       "      <td>0</td>\n",
       "      <td>0</td>\n",
       "      <td>0</td>\n",
       "      <td>0</td>\n",
       "      <td>0</td>\n",
       "      <td>0</td>\n",
       "    </tr>\n",
       "    <tr>\n",
       "      <th>3</th>\n",
       "      <td>0</td>\n",
       "      <td>0</td>\n",
       "      <td>1</td>\n",
       "      <td>0</td>\n",
       "      <td>0</td>\n",
       "      <td>0</td>\n",
       "      <td>0</td>\n",
       "      <td>0</td>\n",
       "      <td>0</td>\n",
       "    </tr>\n",
       "    <tr>\n",
       "      <th>4</th>\n",
       "      <td>0</td>\n",
       "      <td>0</td>\n",
       "      <td>0</td>\n",
       "      <td>0</td>\n",
       "      <td>0</td>\n",
       "      <td>0</td>\n",
       "      <td>1</td>\n",
       "      <td>0</td>\n",
       "      <td>0</td>\n",
       "    </tr>\n",
       "  </tbody>\n",
       "</table>\n",
       "</div>"
      ],
      "text/plain": [
       "   KIA  KT  LG  NC  SK  두산  롯데  삼성  한화\n",
       "0    0   0   0   0   1   0   0   0   0\n",
       "1    0   0   1   0   0   0   0   0   0\n",
       "2    1   0   0   0   0   0   0   0   0\n",
       "3    0   0   1   0   0   0   0   0   0\n",
       "4    0   0   0   0   0   0   1   0   0"
      ]
     },
     "execution_count": 35,
     "metadata": {},
     "output_type": "execute_result"
    }
   ],
   "source": [
    "# 범주형 자료 정규화(원-핫 인코딩)하기\n",
    "# 기면 1이고 아니면 0이다.\n",
    "team_encoding = pd.get_dummies(picher_df['팀명'])\n",
    "picher_df = picher_df.drop('팀명', axis = 1)\n",
    "picher_df = picher_df.join(team_encoding)\n",
    "team_encoding.head(5)"
   ]
  },
  {
   "cell_type": "code",
   "execution_count": null,
   "id": "8854e093",
   "metadata": {},
   "outputs": [],
   "source": [
    "# 회귀 분석을 위한 학습, 테스트 데이터셋 분리\n",
    "from"
   ]
  }
 ],
 "metadata": {
  "kernelspec": {
   "display_name": "Python 3 (ipykernel)",
   "language": "python",
   "name": "python3"
  },
  "language_info": {
   "codemirror_mode": {
    "name": "ipython",
    "version": 3
   },
   "file_extension": ".py",
   "mimetype": "text/x-python",
   "name": "python",
   "nbconvert_exporter": "python",
   "pygments_lexer": "ipython3",
   "version": "3.9.7"
  },
  "toc": {
   "base_numbering": 1,
   "nav_menu": {},
   "number_sections": true,
   "sideBar": true,
   "skip_h1_title": false,
   "title_cell": "Table of Contents",
   "title_sidebar": "Contents",
   "toc_cell": false,
   "toc_position": {},
   "toc_section_display": true,
   "toc_window_display": false
  }
 },
 "nbformat": 4,
 "nbformat_minor": 5
}
